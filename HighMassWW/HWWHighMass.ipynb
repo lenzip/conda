{
 "cells": [
  {
   "cell_type": "code",
   "execution_count": 1,
   "id": "65a455e7",
   "metadata": {},
   "outputs": [
    {
     "name": "stdout",
     "output_type": "stream",
     "text": [
      "Welcome to JupyROOT 6.26/02\n"
     ]
    }
   ],
   "source": [
    "import ROOT"
   ]
  },
  {
   "cell_type": "markdown",
   "id": "3ef98512",
   "metadata": {},
   "source": [
    "The file yields.root contains histogams of a discriminating variable (mti) for the data, the signal and several. First objective is to plot it"
   ]
  },
  {
   "cell_type": "code",
   "execution_count": 2,
   "id": "f7e197de",
   "metadata": {},
   "outputs": [
    {
     "name": "stdout",
     "output_type": "stream",
     "text": [
      "TFile**\t\tyields.root\t\n",
      " TFile*\t\tyields.root\t\n",
      "  KEY: TH1F\th_data;1\tData\n",
      "  KEY: TH1F\th_ww;1\tww\n",
      "  KEY: TH1F\th_top;1\tTop\n",
      "  KEY: TH1F\th_dytt;1\tDYTT\n",
      "  KEY: TH1F\th_vv;1\tWZ/ZZ/W#gamma/Z#gamma\n",
      "  KEY: TH1F\th_signal300;1\tSignal 300 GeV\n",
      "  KEY: TH1F\th_signal400;1\tSignal 400 GeV\n",
      "  KEY: TH1F\th_signal500;1\tSignal 500 GeV\n",
      "  KEY: TH1F\th_signal600;1\tSignal 600 GeV\n",
      "  KEY: TH1F\th_signal700;1\tSignal 700 GeV\n",
      "  KEY: TH1F\th_signal900;1\tSignal 900 GeV\n",
      "  KEY: TH1F\th_signal1000;1\tSignal 1000 GeV\n"
     ]
    }
   ],
   "source": [
    "fileIn = ROOT.TFile(\"yields.root\")\n",
    "fileIn.ls()"
   ]
  },
  {
   "cell_type": "code",
   "execution_count": 3,
   "id": "cc6c8044",
   "metadata": {},
   "outputs": [
    {
     "name": "stderr",
     "output_type": "stream",
     "text": [
      "Info in <TCanvas::MakeDefCanvas>:  created default TCanvas with name c1\n"
     ]
    },
    {
     "data": {
      "image/png": "[encoded data removed]",
      "text/plain": [
       "<IPython.core.display.Image object>"
      ]
     },
     "metadata": {},
     "output_type": "display_data"
    }
   ],
   "source": [
    "mass=\"1000\"\n",
    "scaleSignal=100.\n",
    "\n",
    "h_data   = fileIn.Get(\"h_data\")\n",
    "h_data.SetLineColor(1)\n",
    "h_data.SetLineWidth(2)\n",
    "h_data.SetMarkerColor(1)\n",
    "h_data.SetMarkerStyle(20)\n",
    "\n",
    "h_top    = fileIn.Get(\"h_top\")\n",
    "h_top.SetFillColor(ROOT.kAzure)\n",
    "h_top.SetLineColor(ROOT.kAzure+3)\n",
    "\n",
    "h_ww     = fileIn.Get(\"h_ww\")\n",
    "h_ww.SetFillColor(ROOT.kYellow)\n",
    "h_ww.SetLineColor(ROOT.kYellow+3)\n",
    "\n",
    "h_dytt   = fileIn.Get(\"h_dytt\")\n",
    "h_dytt.SetFillColor(ROOT.kGreen)\n",
    "h_dytt.SetLineColor(ROOT.kGreen+3)\n",
    "\n",
    "h_vv     = fileIn.Get(\"h_vv\")\n",
    "h_vv.SetFillColor(ROOT.kViolet)\n",
    "h_vv.SetLineColor(ROOT.kViolet+3)\n",
    "\n",
    "h_signal = fileIn.Get(\"h_signal\"+mass)\n",
    "h_signal.Scale(scaleSignal)\n",
    "h_signal.SetLineColor(1)\n",
    "\n",
    "stack =  ROOT.THStack()\n",
    "stack.SetNameTitle(\"stack\", \"stack\")\n",
    "stack.Add(h_ww, \"hist\")\n",
    "stack.Add(h_top, \"hist\")\n",
    "stack.Add(h_dytt, \"hist\")\n",
    "stack.Add(h_vv, \"hist\")\n",
    "\n",
    "leg = ROOT.TLegend(0.6, 0.7, 0.9, 0.9)\n",
    "leg.SetFillColor(0)\n",
    "leg.SetNColumns(2)\n",
    "leg.AddEntry(h_vv, \"WZ,ZZ,VVV\", \"f\")\n",
    "leg.AddEntry(h_top, \"Top\", \"f\")\n",
    "leg.AddEntry(h_dytt, \"DY, DYTT\", \"f\")\n",
    "leg.AddEntry(h_ww, \"WW\", \"f\")\n",
    "leg.AddEntry(h_signal, \"signal \"+mass+\" GeV\", \"l\")\n",
    "leg.AddEntry(h_data, \"Data\", \"lp\")\n",
    "\n",
    "\n",
    "stack.Draw()\n",
    "h_signal.Draw(\"HISTsame\")\n",
    "h_data.Draw(\"same\")\n",
    "leg.Draw(\"same\")\n",
    "\n",
    "ROOT.gPad.SetLogy()\n",
    "\n",
    "ROOT.gPad.Draw()"
   ]
  },
  {
   "cell_type": "markdown",
   "id": "2c2316ae",
   "metadata": {},
   "source": [
    "The ```HWWWorkspace``` module defines a function ```getWorkspace``` that is responsible to create a model to fit the data as the sum of the background plus the signal with a chosen mass hypothesis. Differently from other fits that we have encountered in the course, the pdfs for the signal and background do not have an analytical formulation. For this reason we use normalized histograms derived from the simulation as PDFs.\n",
    "We have four background sources, listed below with their PDF in the code:\n",
    "   * non resonant WW (```pdf_ww```)\n",
    "   * backgrounds involving a top wuark (```pdf_top```)\n",
    "   * backgrounds involving a Z boson decaying to a pair of tau leptons (```pdf_dytt```)\n",
    "   * bacgrounds involving other diboson processes (WZ,ZZ) (```pdf_vv```)\n",
    "   \n",
    "Then we have the signal (```pdf_s```), that comes in different forms depending on the signal mass hypothesis.\n",
    "\n",
    "We want to fit the amount of signal, and include in the model the fact that our knowledge of the background normalization is affected by a 10% systematic uncertainty. \n",
    "\n",
    "To this end, the number of events in each bin is modeled as a poissonian with mean $\\nu$:\n",
    "\n",
    "$\\nu=\\mu\\nu_s + \\Sigma_{bkg=ww,top,dytt,vv}\\mu_{bkg}*\\nu_{bkg}$\n",
    "\n",
    "In this equation $\\nu_s$ and $\\nu_{bkg} (bkg=ww,top,dytt,vv)$ are the expected number of signal and background events in each bin. $\\mu_s$ is the parameter of interest, and is a multiplier on the number of signal events. It is a free parameter of the model. The $\\mu_{bkg}$ are similar multipliers for the individual backgrounds. They are not free in the fit, the enter the likelihood with a log-normal prior with 10% width.\n"
   ]
  },
  {
   "cell_type": "code",
   "execution_count": 4,
   "id": "491d7a49",
   "metadata": {},
   "outputs": [],
   "source": [
    "from HWWWorkspace import *"
   ]
  },
  {
   "cell_type": "code",
   "execution_count": 5,
   "id": "665f13e9",
   "metadata": {},
   "outputs": [],
   "source": [
    "# silence roofit\n",
    "ROOT.RooMsgService.instance().setGlobalKillBelow(ROOT.RooFit.ERROR)\n",
    "ROOT.RooMsgService.instance().setSilentMode(True)"
   ]
  },
  {
   "cell_type": "markdown",
   "id": "b9c3f786",
   "metadata": {},
   "source": [
    "First let us find the best fit for mu for each signal hypothesis"
   ]
  },
  {
   "cell_type": "code",
   "execution_count": 6,
   "id": "c445f486",
   "metadata": {},
   "outputs": [],
   "source": [
    "def doFit(h_data, w):\n",
    "  x = w.var(\"x\")\n",
    "  data = ROOT.RooDataHist(\"data\", \"data\", x, h_data)\n",
    "  mu = w.var(\"mu\")\n",
    "  mu.setConstant(False)\n",
    "\n",
    "  model = w.pdf(\"constrained_model\")\n",
    "  model.fitTo(data, ROOT.RooFit.PrintEvalErrors(-1), ROOT.RooFit.Minos(True))\n",
    "  return mu  "
   ]
  },
  {
   "cell_type": "code",
   "execution_count": 7,
   "id": "dc0d1023",
   "metadata": {},
   "outputs": [
    {
     "name": "stdout",
     "output_type": "stream",
     "text": [
      "300 RooRealVar::mu = 0.886617 +/- (-0.64904,0.640253)  L(-10 - 10) \n",
      "\n",
      "400 RooRealVar::mu = -0.825371 +/- (-0.419403,0.420809)  L(-10 - 10) \n",
      "\n",
      "500 RooRealVar::mu = -1.20393 +/- (-0.471025,0.483981)  L(-10 - 10) \n",
      "\n",
      "600 RooRealVar::mu = -1.14372 +/- (-0.602608,0.636239)  L(-10 - 10) \n",
      "\n",
      "700 RooRealVar::mu = -0.439549 +/- (-0.763519,0.83555)  L(-10 - 10) \n",
      "\n",
      "900 RooRealVar::mu = 1.22381 +/- (-1.2425,1.44579)  L(-10 - 10) \n",
      "\n",
      "1000 RooRealVar::mu = 0.0200234 +/- (-0.0161865,0.0192871)  L(-10 - 10) \n",
      "\n"
     ]
    }
   ],
   "source": [
    "for mass in ['300', '400', '500', '600', '700', '900', '1000']:\n",
    "  h_signal = fileIn.Get(\"h_signal\"+mass)\n",
    "  w = getWorkspace(h_ww, h_top, h_dytt, h_vv, h_signal, mass)\n",
    "  mufit = doFit(h_data, w)\n",
    "  print(mass,mufit)\n",
    "    "
   ]
  },
  {
   "cell_type": "markdown",
   "id": "e33be2d5",
   "metadata": {},
   "source": [
    "Now we compute the significance for the different mass hypothesis. Note that this makes sense only for the cases in which we fit a signal above 0"
   ]
  },
  {
   "cell_type": "code",
   "execution_count": 8,
   "id": "6a57e5bf",
   "metadata": {},
   "outputs": [],
   "source": [
    "import math\n",
    "def getSignif(hdata, w):\n",
    "  q0 = 0\n",
    "  x = w.var(\"x\")\n",
    "  data = ROOT.RooDataHist(\"data\", \"data\", x, hdata)\n",
    "  mu = w.var(\"mu\")\n",
    "  mu.setConstant(False)\n",
    "\n",
    "  model = w.pdf(\"model\")\n",
    "  constraints = w.set(\"constraints\")\n",
    "\n",
    "  nll = model.createNLL(data, ROOT.RooFit.ExternalConstraints(constraints) )\n",
    "  m = ROOT.RooMinuit(nll)\n",
    "  m.setPrintLevel(-1000)\n",
    "  m.migrad()\n",
    "  muhat = mu.getVal()\n",
    "  profileLogLikelihood = nll.createProfile(mu)\n",
    "  if (muhat>0) :\n",
    "    mu.setVal(0)\n",
    "    q0 = 2*profileLogLikelihood.getVal()\n",
    "  del nll\n",
    "  return math.sqrt(q0)"
   ]
  },
  {
   "cell_type": "code",
   "execution_count": 9,
   "id": "9ceae9ce",
   "metadata": {},
   "outputs": [
    {
     "name": "stdout",
     "output_type": "stream",
     "text": [
      "300 1.3635382260031188\n",
      "400 0.0\n",
      "500 0.0\n",
      "600 0.0\n",
      "700 0.0\n",
      "900 0.9835579756030397\n",
      "1000 1.270279802229995\n"
     ]
    }
   ],
   "source": [
    "for mass in ['300', '400', '500', '600', '700', '900', '1000']:\n",
    "  h_signal = fileIn.Get(\"h_signal\"+mass)\n",
    "  w = getWorkspace(h_ww, h_top, h_dytt, h_vv, h_signal, mass)\n",
    "  signif = getSignif(h_data, w)\n",
    "  print(mass,signif)"
   ]
  },
  {
   "cell_type": "markdown",
   "id": "d7232e3f",
   "metadata": {},
   "source": [
    "Let us compute the observed upper limit qith qs_tilde"
   ]
  },
  {
   "cell_type": "code",
   "execution_count": 10,
   "id": "aa785aea",
   "metadata": {},
   "outputs": [],
   "source": [
    "def getLimit(h_data, w):\n",
    "  limit = -1\n",
    "  x = w.var(\"x\")\n",
    "  data = ROOT.RooDataHist(\"data\", \"data\", x, h_data)\n",
    "  mu = w.var(\"mu\")\n",
    "  mu.setConstant(False)\n",
    "\n",
    "  model = w.pdf(\"model\")\n",
    "  constraints = w.set(\"constraints\")\n",
    "\n",
    "  nll = model.createNLL(data, ROOT.RooFit.ExternalConstraints(constraints) )\n",
    "  m = ROOT.RooMinuit(nll)\n",
    "  m.setPrintLevel(-1000) #silence minuit\n",
    "  m.migrad() #minimize\n",
    "  m.hesse()  #hesse\n",
    "  muhat = mu.getVal()\n",
    "  muerr = mu.getError()\n",
    "  \n",
    "  if (mu.getVal() < 0): #if best fit is negative\n",
    "    #redo the fit freezing mu to 0\n",
    "    mu.setVal(0)\n",
    "    mu.setConstant(True)\n",
    "    m.migrad()\n",
    "\n",
    "  minNLL = nll.getVal(); #value of the negative log likelihood at global minimum\n",
    "\n",
    "  for k in range(1, 5000):\n",
    "    thismu = k*0.01\n",
    "    mu.setVal(thismu)  #set mu to a given value\n",
    "    mu.setConstant(True) # make it constant, so the fit does not touch it\n",
    "    m.migrad() # minimize\n",
    "    minNLLmu = nll.getVal() # net the minimum of NLL for that choice of mu\n",
    "    q_mu = 2*(minNLLmu - minNLL) # compute q_mu\n",
    "    CLsb = 1;\n",
    "    #print (muerr)\n",
    "    # protect in case of numerical precision issues\n",
    "    if (q_mu<1e-3):\n",
    "      q_mu=0\n",
    "    # we use the cumulative PDF of qs_tilde based on https://link.springer.com/article/10.1140/epjc/s10052-011-1554-0\n",
    "    if (q_mu <= thismu*thismu/muerr/muerr):\n",
    "      CLsb = 1. - (2*ROOT.Math.normal_cdf(math.sqrt(q_mu))-1.)\n",
    "    else:\n",
    "      CLsb = 1. - (ROOT.Math.normal_cdf(math.sqrt(q_mu))+ROOT.Math.normal_cdf((q_mu+thismu*thismu/muerr/muerr)/(2*(thismu/muerr)))-1.)\n",
    "    if (CLsb < 0.05):\n",
    "       limit = thismu\n",
    "       break\n",
    "\n",
    "  del nll\n",
    "  del data\n",
    "  del m  \n",
    "  return limit\n"
   ]
  },
  {
   "cell_type": "code",
   "execution_count": 11,
   "id": "0ecf9b8f",
   "metadata": {},
   "outputs": [
    {
     "name": "stdout",
     "output_type": "stream",
     "text": [
      "300 2.14\n",
      "400 0.28\n",
      "500 0.27\n",
      "600 0.51\n",
      "700 1.33\n",
      "900 4.25\n",
      "1000 0.07\n"
     ]
    }
   ],
   "source": [
    "for mass in ['300', '400', '500', '600', '700', '900', '1000']:\n",
    "  h_signal = fileIn.Get(\"h_signal\"+mass)\n",
    "  w = getWorkspace(h_ww, h_top, h_dytt, h_vv, h_signal, mass)\n",
    "  observed_limit = getLimit(h_data, w)\n",
    "  print(mass,observed_limit)"
   ]
  },
  {
   "cell_type": "markdown",
   "id": "4a7cb1a6",
   "metadata": {},
   "source": [
    "Now also get the expected limit, i.e. the limit you would set if you observed exactly the background you expect"
   ]
  },
  {
   "cell_type": "code",
   "execution_count": 12,
   "id": "a1bb5c79",
   "metadata": {},
   "outputs": [
    {
     "name": "stdout",
     "output_type": "stream",
     "text": [
      "300 1.35 2.14\n",
      "400 0.85 0.28\n",
      "500 1.04 0.27\n",
      "600 1.43 0.51\n",
      "700 1.96 1.33\n",
      "900 3.08 4.25\n",
      "1000 0.04 0.07\n"
     ]
    }
   ],
   "source": [
    "h_bkg = h_top.Clone()\n",
    "h_bkg.Add(h_ww)\n",
    "h_bkg.Add(h_dytt)\n",
    "h_bkg.Add(h_vv)\n",
    "\n",
    "for mass in ['300', '400', '500', '600', '700', '900', '1000']:\n",
    "  h_signal = fileIn.Get(\"h_signal\"+mass)\n",
    "  w = getWorkspace(h_ww, h_top, h_dytt, h_vv, h_signal, mass)\n",
    "  observed_limit = getLimit(h_data, w)\n",
    "  expected_limit = getLimit(h_bkg, w)\n",
    "  print(mass,expected_limit, observed_limit)"
   ]
  },
  {
   "cell_type": "markdown",
   "id": "c53bc5b5",
   "metadata": {},
   "source": [
    "If the background only hypothesis is actually true, I would still expect different limits depending on the statistical fluctuations of the data. How do we estimate this?\n",
    "\n",
    "We generate toy experiments as fluctuations of the expected background and we compute the limit for each of them. This will give us an idea of hoe the expected limit varies in the background only hipothesis. \n",
    "\n",
    "We will generate the \"Brazilian band\" around the expected limit, with the so called \"1 $\\sigma$\" and \"2 $\\sigma$\" bands. The naming is a misnomer: it has nothing to do with significance: the 2 $\\sigma$ band is defined by the 2.5% and 97.5% percentiles of the limits computed on the background-only toys. The 1 $\\sigma$ is the 34% and 84% percentiles."
   ]
  },
  {
   "cell_type": "code",
   "execution_count": null,
   "id": "1f72036c",
   "metadata": {},
   "outputs": [
    {
     "name": "stdout",
     "output_type": "stream",
     "text": [
      "generating toy 0 for mass 300\n",
      "generating toy 100 for mass 300\n",
      "generating toy 200 for mass 300\n"
     ]
    }
   ],
   "source": [
    "from array import array\n",
    "\n",
    "masses=['300']\n",
    "#masses = ['300', '400', '500', '600', '700', '900', '1000']\n",
    "# some arrays to hold the results and make TGraphs afterwards\n",
    "expected    = array('d')\n",
    "expectedUp1 = array('d')\n",
    "expectedUp2 = array('d')\n",
    "expectedDo1 = array('d')\n",
    "expectedDo2 = array('d')\n",
    "observed    = array('d')\n",
    "\n",
    "# random number generator used to generate toys\n",
    "rand = ROOT.TRandom3()\n",
    "\n",
    "#loop over masses\n",
    "for mass in masses:\n",
    "  h_signal = fileIn.Get(\"h_signal\"+mass)\n",
    "  w = getWorkspace(h_ww, h_top, h_dytt, h_vv, h_signal, mass)\n",
    "  observed_limit = getLimit(h_data, w)\n",
    "  expected_limit = getLimit(h_bkg, w)\n",
    "  expected.append(expected_limit)\n",
    "  observed.append(observed_limit)\n",
    "  #now deal with the toys\n",
    "  #generate 1000 toys in the background only hypothesis and histogram the 1000 limits,\n",
    "  h_limit = ROOT.TH1F('h_limit', 'h_limit', 5000, 0, 10)  \n",
    "  #The histgram is just needed to extract the quantiles\n",
    "  xq = array('d', [0.025, 0.34, 0.5, 0.84, 0.975]) #positions where to compute the quantiles in [0,1]\n",
    "  yq = array('d', [0, 0, 0, 0, 0]) # the vector to store the quantiles\n",
    "  for i in range(500):\n",
    "      if i%100==0:\n",
    "            print (f\"generating toy {i} for mass {mass}\")\n",
    "      h_toy = h_bkg.Clone() #just to clone the binning etc. It will be refilled\n",
    "      h_toy.Reset(\"ICESM\")\n",
    "      h_toy.FillRandom(h_bkg, rand.Poisson(h_bkg.Integral()), rand)\n",
    "      toy_limit = getLimit(h_toy, w)\n",
    "      del h_toy\n",
    "      h_limit.Fill(toy_limit)\n",
    "  h_limit.GetQuantiles(5,yq,xq)\n",
    "  #h_limit.Draw()\n",
    "  #ROOT.gPad.Draw()\n",
    "  print (f'mass {mass} --> \\\n",
    "         expected limit {expected_limit}, \\\n",
    "         2 sigma down {yq[0]}, \\\n",
    "         1 sigma down {yq[1]}, \\\n",
    "         1 sigma up {yq[3]}, \\\n",
    "         2 sigma up {yq[4]}, \\\n",
    "         observed {observed_limit}')\n",
    "  expectedUp1.append(yq[3])\n",
    "  expectedUp2.append(yq[4])\n",
    "  expectedDo1.append(yq[1])\n",
    "  expectedDo2.append(yq[0])   \n",
    "    "
   ]
  },
  {
   "cell_type": "code",
   "execution_count": null,
   "id": "fcf8fe9a",
   "metadata": {},
   "outputs": [],
   "source": []
  }
 ],
 "metadata": {
  "kernelspec": {
   "display_name": "Python 3 (ipykernel)",
   "language": "python",
   "name": "python3"
  },
  "language_info": {
   "codemirror_mode": {
    "name": "ipython",
    "version": 3
   },
   "file_extension": ".py",
   "mimetype": "text/x-python",
   "name": "python",
   "nbconvert_exporter": "python",
   "pygments_lexer": "ipython3",
   "version": "3.10.4"
  }
 },
 "nbformat": 4,
 "nbformat_minor": 5
}
