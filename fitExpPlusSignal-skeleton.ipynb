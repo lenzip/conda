{
 "cells": [
  {
   "cell_type": "code",
   "execution_count": 1,
   "id": "7290bda4",
   "metadata": {},
   "outputs": [
    {
     "name": "stdout",
     "output_type": "stream",
     "text": [
      "Welcome to JupyROOT 6.24/00\n"
     ]
    }
   ],
   "source": [
    "import ROOT"
   ]
  },
  {
   "cell_type": "markdown",
   "id": "be3ab203",
   "metadata": {},
   "source": [
    "# access file data.root and read the ttree in"
   ]
  },
  {
   "cell_type": "code",
   "execution_count": 3,
   "id": "5a6a3c98",
   "metadata": {},
   "outputs": [],
   "source": [
    "inputFile =  ROOT.TFile(\"data.root\")\n",
    "tree = inputFile.Get(\"sig\")"
   ]
  },
  {
   "cell_type": "markdown",
   "id": "a5e40e24",
   "metadata": {},
   "source": [
    "# create the sum of an exponential and a gaussian to fit the data"
   ]
  },
  {
   "cell_type": "code",
   "execution_count": 6,
   "id": "2487b038",
   "metadata": {},
   "outputs": [],
   "source": [
    "x = ROOT.RooRealVar(\"x\", \"x\", 0., 1000.);\n",
    "oneovertau = ROOT.RooRealVar(\"oneovertau\", \"oneovertau\", -0.02, -0.1, -0.003)\n",
    "sigma = ROOT.RooRealVar(\"sigma\", \"sigma\", 1., 0.001, 10.)\n",
    "mass = ROOT.RooRealVar(\"mass\", \"mass\",  114., 200.)\n",
    "nbkg = ROOT.RooRealVar(\"nbkg\", \"nbkg\", 10000., 50000.)\n",
    "nsig = ROOT.RooRealVar(\"nsig\", \"nsig\", 1000., 3000.)\n",
    "expo = ROOT.RooExponential(\"expo\",\"expoonential function\", x, oneovertau)\n",
    "gaus = ROOT.RooGaussian(\"gaus\", \"gaussian function\", x, mass, sigma)\n",
    "modelSB = ROOT.RooAddPdf(\"modelSB\",\"modelSB\", ROOT.RooArgList(gaus,expo), ROOT.RooArgList(nsig,nbkg))"
   ]
  },
  {
   "cell_type": "markdown",
   "id": "bf81df80",
   "metadata": {},
   "source": [
    "# convert the ttree in a RooDataset"
   ]
  },
  {
   "cell_type": "code",
   "execution_count": 8,
   "id": "651af61d",
   "metadata": {},
   "outputs": [
    {
     "name": "stdout",
     "output_type": "stream",
     "text": [
      "[#1] INFO:DataHandling -- RooAbsReal::attachToTree(x) TTree Float_t branch x will be converted to double precision.\n",
      "[#1] INFO:DataHandling -- RooTreeDataStore::loadValues(data) Skipping event #13390 because x cannot accommodate the value 1396.81\n",
      "[#1] INFO:DataHandling -- RooTreeDataStore::loadValues(data) Skipping event #31771 because x cannot accommodate the value 1038.39\n",
      "[#0] WARNING:DataHandling -- RooTreeDataStore::loadValues(data) Ignored 2 out-of-range events\n",
      "RooDataSet::data[x] = 39934 entries\n"
     ]
    }
   ],
   "source": [
    "data = ROOT.RooDataSet(\"data\",\"dataset with x\", tree, ROOT.RooArgSet(x))\n",
    "data.Print()"
   ]
  }
 ],
 "metadata": {
  "kernelspec": {
   "display_name": "Python 3",
   "language": "python",
   "name": "python3"
  },
  "language_info": {
   "codemirror_mode": {
    "name": "ipython",
    "version": 3
   },
   "file_extension": ".py",
   "mimetype": "text/x-python",
   "name": "python",
   "nbconvert_exporter": "python",
   "pygments_lexer": "ipython3",
   "version": "3.8.5"
  }
 },
 "nbformat": 4,
 "nbformat_minor": 5
}
