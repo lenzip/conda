{
 "cells": [
  {
   "cell_type": "code",
   "execution_count": 1,
   "id": "7290bda4",
   "metadata": {},
   "outputs": [
    {
     "name": "stdout",
     "output_type": "stream",
     "text": [
      "Welcome to JupyROOT 6.26/02\n"
     ]
    }
   ],
   "source": [
    "import ROOT"
   ]
  },
  {
   "cell_type": "markdown",
   "id": "be3ab203",
   "metadata": {},
   "source": [
    "# access file data.root and read the ttree in"
   ]
  },
  {
   "cell_type": "code",
   "execution_count": 2,
   "id": "5a6a3c98",
   "metadata": {},
   "outputs": [],
   "source": [
    "inputFile =  ROOT.TFile(\"data.root\")\n",
    "tree = inputFile.Get(\"sig\")"
   ]
  },
  {
   "cell_type": "markdown",
   "id": "a5e40e24",
   "metadata": {},
   "source": [
    "# create the sum of an exponential and a gaussian to fit the data"
   ]
  },
  {
   "cell_type": "code",
   "execution_count": 3,
   "id": "2487b038",
   "metadata": {},
   "outputs": [],
   "source": [
    "x = ROOT.RooRealVar(\"x\", \"x\", 0., 1000.);\n",
    "oneovertau = ROOT.RooRealVar(\"oneovertau\", \"oneovertau\", -0.02, -0.1, -0.003)\n",
    "sigma = ROOT.RooRealVar(\"sigma\", \"sigma\", 1., 0.001, 10.)\n",
    "mass = ROOT.RooRealVar(\"mass\", \"mass\",  114., 200.)\n",
    "nbkg = ROOT.RooRealVar(\"nbkg\", \"nbkg\", 10000., 50000.)\n",
    "nsig = ROOT.RooRealVar(\"nsig\", \"nsig\", 1000., 3000.)\n",
    "expo = ROOT.RooExponential(\"expo\",\"expoonential function\", x, oneovertau)\n",
    "gaus = ROOT.RooGaussian(\"gaus\", \"gaussian function\", x, mass, sigma)\n",
    "modelSB = ROOT.RooAddPdf(\"modelSB\",\"modelSB\", ROOT.RooArgList(gaus,expo), ROOT.RooArgList(nsig,nbkg))"
   ]
  },
  {
   "cell_type": "markdown",
   "id": "bf81df80",
   "metadata": {},
   "source": [
    "# convert the ttree in a RooDataset"
   ]
  },
  {
   "cell_type": "code",
   "execution_count": 4,
   "id": "651af61d",
   "metadata": {},
   "outputs": [
    {
     "name": "stdout",
     "output_type": "stream",
     "text": [
      "[#1] INFO:DataHandling -- RooAbsReal::attachToTree(x) TTree Float_t branch x will be converted to double precision.\n",
      "[#1] INFO:DataHandling -- RooTreeDataStore::loadValues(data) Skipping event #13390 because x cannot accommodate the value 1396.81\n",
      "[#1] INFO:DataHandling -- RooTreeDataStore::loadValues(data) Skipping event #31771 because x cannot accommodate the value 1038.39\n",
      "[#0] WARNING:DataHandling -- RooTreeDataStore::loadValues(data) Ignored 2 out-of-range events\n",
      "RooDataSet::data[x] = 39934 entries\n"
     ]
    }
   ],
   "source": [
    "data = ROOT.RooDataSet(\"data\",\"dataset with x\", tree, ROOT.RooArgSet(x))\n",
    "data.Print()"
   ]
  },
  {
   "cell_type": "code",
   "execution_count": 5,
   "id": "7b37ef32",
   "metadata": {},
   "outputs": [
    {
     "data": {
      "text/plain": [
       "<cppyy.gbl.RooFitResult object at 0x(nil)>"
      ]
     },
     "execution_count": 5,
     "metadata": {},
     "output_type": "execute_result"
    },
    {
     "name": "stdout",
     "output_type": "stream",
     "text": [
      "[#1] INFO:Minimization -- p.d.f. provides expected number of events, including extended term in likelihood.\n",
      "[#1] INFO:Minimization -- RooAbsMinimizerFcn::setOptimizeConst: activating const optimization\n",
      "[#1] INFO:Minimization --  The following expressions will be evaluated in cache-and-track mode: (gaus,expo)\n",
      " **********\n",
      " **    1 **SET PRINT           1\n",
      " **********\n",
      " **********\n",
      " **    2 **SET NOGRAD\n",
      " **********\n",
      " PARAMETER DEFINITIONS:\n",
      "    NO.   NAME         VALUE      STEP SIZE      LIMITS\n",
      "     1 mass         1.57000e+02  8.60000e+00    1.14000e+02  2.00000e+02\n",
      "     2 nbkg         3.00000e+04  4.00000e+03    1.00000e+04  5.00000e+04\n",
      "     3 nsig         2.00000e+03  2.00000e+02    1.00000e+03  3.00000e+03\n",
      "     4 oneovertau  -2.00000e-02  8.50000e-03   -1.00000e-01 -3.00000e-03\n",
      "     5 sigma        1.00000e+00  4.99500e-01    1.00000e-03  1.00000e+01\n",
      " **********\n",
      " **    3 **SET ERR         0.5\n",
      " **********\n",
      " **********\n",
      " **    4 **SET PRINT           1\n",
      " **********\n",
      " **********\n",
      " **    5 **SET STR           1\n",
      " **********\n",
      " NOW USING STRATEGY  1: TRY TO BALANCE SPEED AGAINST RELIABILITY\n",
      " **********\n",
      " **    6 **MIGRAD        2500           1\n",
      " **********\n",
      " FIRST CALL TO USER FUNCTION AT NEW START POINT, WITH IFLAG=4.\n",
      " START MIGRAD MINIMIZATION.  STRATEGY  1.  CONVERGENCE WHEN EDM .LT. 1.00e-03\n",
      " FCN=-143591 FROM MIGRAD    STATUS=INITIATE       39 CALLS          40 TOTAL\n",
      "                     EDM= unknown      STRATEGY= 1      NO ERROR MATRIX       \n",
      "  EXT PARAMETER               CURRENT GUESS       STEP         FIRST   \n",
      "  NO.   NAME      VALUE            ERROR          SIZE      DERIVATIVE \n",
      "   1  mass         1.55735e+02   8.60000e+00  -2.94169e-02  -8.17690e+00\n",
      "   2  nbkg         3.00000e+04   4.00000e+03   0.00000e+00  -6.36462e+03\n",
      "   3  nsig         2.00000e+03   2.00000e+02   0.00000e+00   8.06332e+02\n",
      "   4  oneovertau  -2.00000e-02   8.50000e-03   0.00000e+00  -7.40235e+04\n",
      "   5  sigma        1.00000e+00   4.99500e-01   0.00000e+00  -1.78068e+03\n",
      "                               ERR DEF= 0.5\n",
      " MINUIT WARNING IN MIGRAD  \n",
      " ============== Negative diagonal element 1 in Error Matrix\n",
      " MINUIT WARNING IN MIGRAD  \n",
      " ============== Negative diagonal element 2 in Error Matrix\n",
      " MINUIT WARNING IN MIGRAD  \n",
      " ============== Negative diagonal element 5 in Error Matrix\n",
      " MINUIT WARNING IN MIGRAD  \n",
      " ============== 1.02211 added to diagonal of error matrix\n",
      " EIGENVALUES OF SECOND-DERIVATIVE MATRIX:\n",
      "        -4.5422e-01  9.1842e-01  9.9386e-01  1.2163e+00  2.3256e+00\n",
      " MINUIT WARNING IN MIGRAD  \n",
      " ============== MATRIX FORCED POS-DEF BY ADDING 0.456547 TO DIAGONAL.\n",
      " MIGRAD MINIMIZATION HAS CONVERGED.\n",
      " MIGRAD WILL VERIFY CONVERGENCE AND ERROR MATRIX.\n",
      " COVARIANCE MATRIX CALCULATED SUCCESSFULLY\n",
      " FCN=-159481 FROM MIGRAD    STATUS=CONVERGED     382 CALLS         383 TOTAL\n",
      "                     EDM=3.60437e-06    STRATEGY= 1      ERROR MATRIX ACCURATE \n",
      "  EXT PARAMETER                                   STEP         FIRST   \n",
      "  NO.   NAME      VALUE            ERROR          SIZE      DERIVATIVE \n",
      "   1  mass         1.25026e+02   2.14313e-01   2.04850e-03   1.94802e-01\n",
      "   2  nbkg         3.80264e+04   2.03689e+02   2.97319e-03  -6.18186e-02\n",
      "   3  nsig         1.90747e+03   7.33865e+01   1.76113e-02   1.10930e-02\n",
      "   4  oneovertau  -9.98560e-03   5.14726e-05   5.64921e-04  -1.16757e-01\n",
      "   5  sigma        5.01197e+00   2.16923e-01   1.04857e-02  -3.85675e-03\n",
      "                               ERR DEF= 0.5\n",
      " EXTERNAL ERROR MATRIX.    NDIM=  25    NPAR=  5    ERR DEF=0.5\n",
      "  4.593e-02  8.672e-01 -8.715e-01 -1.078e-07  2.945e-03 \n",
      "  8.672e-01  4.149e+04 -3.471e+03  2.225e-04  7.516e+00 \n",
      " -8.715e-01 -3.471e+03  5.395e+03 -2.232e-04 -7.554e+00 \n",
      " -1.078e-07  2.225e-04 -2.232e-04  2.649e-09  4.776e-07 \n",
      "  2.945e-03  7.516e+00 -7.554e+00  4.776e-07  4.709e-02 \n",
      " PARAMETER  CORRELATION COEFFICIENTS  \n",
      "       NO.  GLOBAL      1      2      3      4      5\n",
      "        1  0.07105   1.000  0.020 -0.055 -0.010  0.063\n",
      "        2  0.24197   0.020  1.000 -0.232  0.021  0.170\n",
      "        3  0.50015  -0.055 -0.232  1.000 -0.059 -0.474\n",
      "        4  0.06324  -0.010  0.021 -0.059  1.000  0.043\n",
      "        5  0.47956   0.063  0.170 -0.474  0.043  1.000\n",
      " **********\n",
      " **    7 **SET ERR         0.5\n",
      " **********\n",
      " **********\n",
      " **    8 **SET PRINT           1\n",
      " **********\n",
      " **********\n",
      " **    9 **HESSE        2500\n",
      " **********\n",
      " COVARIANCE MATRIX CALCULATED SUCCESSFULLY\n",
      " FCN=-159481 FROM HESSE     STATUS=OK             31 CALLS         414 TOTAL\n",
      "                     EDM=3.59375e-06    STRATEGY= 1      ERROR MATRIX ACCURATE \n",
      "  EXT PARAMETER                                INTERNAL      INTERNAL  \n",
      "  NO.   NAME      VALUE            ERROR       STEP SIZE       VALUE   \n",
      "   1  mass         1.25026e+02   2.14376e-01   8.19401e-05  -8.38397e-01\n",
      "   2  nbkg         3.80264e+04   2.03633e+02   1.18928e-04   4.12959e-01\n",
      "   3  nsig         1.90747e+03   7.30799e+01   7.04452e-04  -6.37585e+00\n",
      "   4  oneovertau  -9.98560e-03   5.14719e-05   1.12984e-04   1.02742e+00\n",
      "   5  sigma        5.01197e+00   2.16075e-01   4.19430e-04   3.13930e+00\n",
      "                               ERR DEF= 0.5\n",
      " EXTERNAL ERROR MATRIX.    NDIM=  25    NPAR=  5    ERR DEF=0.5\n",
      "  4.596e-02  8.645e-01 -8.647e-01 -1.080e-07  3.199e-03 \n",
      "  8.645e-01  4.147e+04 -3.442e+03  2.215e-04  7.381e+00 \n",
      " -8.647e-01 -3.442e+03  5.350e+03 -2.216e-04 -7.382e+00 \n",
      " -1.080e-07  2.215e-04 -2.216e-04  2.649e-09  4.683e-07 \n",
      "  3.199e-03  7.381e+00 -7.382e+00  4.683e-07  4.672e-02 \n",
      " PARAMETER  CORRELATION COEFFICIENTS  \n",
      "       NO.  GLOBAL      1      2      3      4      5\n",
      "        1  0.07513   1.000  0.020 -0.055 -0.010  0.069\n",
      "        2  0.24089   0.020  1.000 -0.231  0.021  0.168\n",
      "        3  0.49387  -0.055 -0.231  1.000 -0.059 -0.467\n",
      "        4  0.06303  -0.010  0.021 -0.059  1.000  0.042\n",
      "        5  0.47314   0.069  0.168 -0.467  0.042  1.000\n",
      " **********\n",
      " **   10 **MINOS        2500           1\n",
      " **********\n",
      " FCN=-159481 FROM MINOS     STATUS=SUCCESSFUL     47 CALLS         461 TOTAL\n",
      "                     EDM=3.59375e-06    STRATEGY= 1      ERROR MATRIX ACCURATE \n",
      "  EXT PARAMETER                  PARABOLIC         MINOS ERRORS        \n",
      "  NO.   NAME      VALUE            ERROR      NEGATIVE      POSITIVE   \n",
      "   1  mass         1.25026e+02   2.14376e-01  -2.15185e-01   2.13784e-01\n",
      "   2  nbkg         3.80264e+04   2.03633e+02                            \n",
      "   3  nsig         1.90747e+03   7.30799e+01                            \n",
      "   4  oneovertau  -9.98560e-03   5.14719e-05                            \n",
      "   5  sigma        5.01197e+00   2.16075e-01                            \n",
      "                               ERR DEF= 0.5\n",
      " **********\n",
      " **   11 **MINOS        2500           2\n",
      " **********\n",
      " FCN=-159481 FROM MINOS     STATUS=SUCCESSFUL     38 CALLS         499 TOTAL\n",
      "                     EDM=3.59375e-06    STRATEGY= 1      ERROR MATRIX ACCURATE \n",
      "  EXT PARAMETER                  PARABOLIC         MINOS ERRORS        \n",
      "  NO.   NAME      VALUE            ERROR      NEGATIVE      POSITIVE   \n",
      "   1  mass         1.25026e+02   2.14376e-01  -2.15185e-01   2.13784e-01\n",
      "   2  nbkg         3.80264e+04   2.03633e+02  -2.03126e+02   2.04145e+02\n",
      "   3  nsig         1.90747e+03   7.30799e+01                            \n",
      "   4  oneovertau  -9.98560e-03   5.14719e-05                            \n",
      "   5  sigma        5.01197e+00   2.16075e-01                            \n",
      "                               ERR DEF= 0.5\n",
      " **********\n",
      " **   12 **MINOS        2500           3\n",
      " **********\n",
      " FCN=-159481 FROM MINOS     STATUS=SUCCESSFUL     79 CALLS         578 TOTAL\n",
      "                     EDM=3.59375e-06    STRATEGY= 1      ERROR MATRIX ACCURATE \n",
      "  EXT PARAMETER                  PARABOLIC         MINOS ERRORS        \n",
      "  NO.   NAME      VALUE            ERROR      NEGATIVE      POSITIVE   \n",
      "   1  mass         1.25026e+02   2.14376e-01  -2.15185e-01   2.13784e-01\n",
      "   2  nbkg         3.80264e+04   2.03633e+02  -2.03126e+02   2.04145e+02\n",
      "   3  nsig         1.90747e+03   7.30799e+01  -7.26341e+01   7.36317e+01\n",
      "   4  oneovertau  -9.98560e-03   5.14719e-05                            \n",
      "   5  sigma        5.01197e+00   2.16075e-01                            \n",
      "                               ERR DEF= 0.5\n",
      " **********\n",
      " **   13 **MINOS        2500           4\n",
      " **********\n",
      " FCN=-159481 FROM MINOS     STATUS=SUCCESSFUL     40 CALLS         618 TOTAL\n",
      "                     EDM=3.59375e-06    STRATEGY= 1      ERROR MATRIX ACCURATE \n",
      "  EXT PARAMETER                  PARABOLIC         MINOS ERRORS        \n",
      "  NO.   NAME      VALUE            ERROR      NEGATIVE      POSITIVE   \n",
      "   1  mass         1.25026e+02   2.14376e-01  -2.15185e-01   2.13784e-01\n",
      "   2  nbkg         3.80264e+04   2.03633e+02  -2.03126e+02   2.04145e+02\n",
      "   3  nsig         1.90747e+03   7.30799e+01  -7.26341e+01   7.36317e+01\n",
      "   4  oneovertau  -9.98560e-03   5.14719e-05  -5.15455e-05   5.13982e-05\n",
      "   5  sigma        5.01197e+00   2.16075e-01                            \n",
      "                               ERR DEF= 0.5\n",
      " **********\n",
      " **   14 **MINOS        2500           5\n",
      " **********\n",
      " FCN=-159481 FROM MINOS     STATUS=SUCCESSFUL     90 CALLS         708 TOTAL\n",
      "                     EDM=3.59375e-06    STRATEGY= 1      ERROR MATRIX ACCURATE \n",
      "  EXT PARAMETER                  PARABOLIC         MINOS ERRORS        \n",
      "  NO.   NAME      VALUE            ERROR      NEGATIVE      POSITIVE   \n",
      "   1  mass         1.25026e+02   2.14376e-01  -2.15185e-01   2.13784e-01\n",
      "   2  nbkg         3.80264e+04   2.03633e+02  -2.03126e+02   2.04145e+02\n",
      "   3  nsig         1.90747e+03   7.30799e+01  -7.26341e+01   7.36317e+01\n",
      "   4  oneovertau  -9.98560e-03   5.14719e-05  -5.15455e-05   5.13982e-05\n",
      "   5  sigma        5.01197e+00   2.16075e-01  -2.11937e-01   2.20458e-01\n",
      "                               ERR DEF= 0.5\n",
      "[#1] INFO:Minimization -- RooAbsMinimizerFcn::setOptimizeConst: deactivating const optimization\n"
     ]
    }
   ],
   "source": [
    "modelSB.fitTo(data, ROOT.RooFit.Minos(True))"
   ]
  },
  {
   "cell_type": "code",
   "execution_count": 8,
   "id": "6f85bd1c",
   "metadata": {},
   "outputs": [
    {
     "name": "stdout",
     "output_type": "stream",
     "text": [
      "[#1] INFO:Plotting -- RooAbsPdf::plotOn(modelSB) directly selected PDF components: (expo)\n",
      "[#1] INFO:Plotting -- RooAbsPdf::plotOn(modelSB) indirectly selected PDF components: ()\n",
      "[#1] INFO:Plotting -- RooAbsPdf::plotOn(modelSB) directly selected PDF components: (gaus)\n",
      "[#1] INFO:Plotting -- RooAbsPdf::plotOn(modelSB) indirectly selected PDF components: ()\n"
     ]
    },
    {
     "data": {
      "image/png": "[encoded data removed]",
      "text/plain": [
       "<IPython.core.display.Image object>"
      ]
     },
     "metadata": {},
     "output_type": "display_data"
    }
   ],
   "source": [
    "frame = x.frame()\n",
    "data.plotOn(frame)\n",
    "modelSB.plotOn(frame)\n",
    "modelSB.plotOn(frame, ROOT.RooFit.Components(\"expo\"), ROOT.RooFit.LineColor(3))\n",
    "modelSB.plotOn(frame, ROOT.RooFit.Components(\"gaus\"), ROOT.RooFit.LineColor(4))\n",
    "\n",
    "frame.Draw()\n",
    "ROOT.gPad.Draw()"
   ]
  },
  {
   "cell_type": "code",
   "execution_count": 9,
   "id": "edc8ec66",
   "metadata": {},
   "outputs": [
    {
     "name": "stdout",
     "output_type": "stream",
     "text": [
      "[#1] INFO:Minimization -- p.d.f. provides expected number of events, including extended term in likelihood.\n"
     ]
    }
   ],
   "source": [
    "nll = modelSB.createNLL(data)"
   ]
  },
  {
   "cell_type": "code",
   "execution_count": 10,
   "id": "379bad2f",
   "metadata": {},
   "outputs": [],
   "source": [
    "profile = nll.createProfile(mass)"
   ]
  },
  {
   "cell_type": "code",
   "execution_count": 12,
   "id": "3b0cea8e",
   "metadata": {},
   "outputs": [
    {
     "name": "stdout",
     "output_type": "stream",
     "text": [
      "[#1] INFO:Minimization -- RooProfileLL::evaluate(nll_modelSB_data_Profile[mass]) Creating instance of MINUIT\n",
      "[#1] INFO:Minimization -- RooProfileLL::evaluate(nll_modelSB_data_Profile[mass]) determining minimum likelihood for current configurations w.r.t all observable\n",
      "[#1] INFO:Minimization -- RooProfileLL::evaluate(nll_modelSB_data_Profile[mass]) minimum found at (mass=125.026)\n",
      ".................................................................................."
     ]
    },
    {
     "data": {
      "image/png": "[encoded data removed]",
      "text/plain": [
       "<IPython.core.display.Image object>"
      ]
     },
     "metadata": {},
     "output_type": "display_data"
    }
   ],
   "source": [
    "frame_mll = mass.frame(ROOT.RooFit.Range(124.6, 125.4), ROOT.RooFit.Bins(20))\n",
    "profile.plotOn(frame_mll)\n",
    "\n",
    "frame_mll.Draw()\n",
    "ROOT.gPad.Draw()"
   ]
  }
 ],
 "metadata": {
  "kernelspec": {
   "display_name": "Python 3 (ipykernel)",
   "language": "python",
   "name": "python3"
  },
  "language_info": {
   "codemirror_mode": {
    "name": "ipython",
    "version": 3
   },
   "file_extension": ".py",
   "mimetype": "text/x-python",
   "name": "python",
   "nbconvert_exporter": "python",
   "pygments_lexer": "ipython3",
   "version": "3.10.4"
  }
 },
 "nbformat": 4,
 "nbformat_minor": 5
}
