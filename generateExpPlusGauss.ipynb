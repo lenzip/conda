{
 "cells": [
  {
   "cell_type": "markdown",
   "id": "bbdabaca",
   "metadata": {},
   "source": [
    "# Import ROOT"
   ]
  },
  {
   "cell_type": "code",
   "execution_count": 1,
   "id": "bb2db743",
   "metadata": {},
   "outputs": [
    {
     "name": "stdout",
     "output_type": "stream",
     "text": [
      "Welcome to JupyROOT 6.24/00\n"
     ]
    }
   ],
   "source": [
    "import ROOT"
   ]
  },
  {
   "cell_type": "markdown",
   "id": "18ebd70d",
   "metadata": {},
   "source": [
    "# import python array to use to store TTree branch"
   ]
  },
  {
   "cell_type": "code",
   "execution_count": 2,
   "id": "b9bac40a",
   "metadata": {},
   "outputs": [],
   "source": [
    "import array"
   ]
  },
  {
   "cell_type": "markdown",
   "id": "d2de5c61",
   "metadata": {},
   "source": [
    "# prepare the file to write out the dataset"
   ]
  },
  {
   "cell_type": "code",
   "execution_count": 3,
   "id": "a8f87930",
   "metadata": {},
   "outputs": [],
   "source": [
    "fileout = ROOT.TFile(\"data.root\", \"recreate\")"
   ]
  },
  {
   "cell_type": "markdown",
   "id": "f02d9d8e",
   "metadata": {},
   "source": [
    "# create the TTree and the branch that will hold the data"
   ]
  },
  {
   "cell_type": "code",
   "execution_count": 4,
   "id": "1065a622",
   "metadata": {},
   "outputs": [
    {
     "data": {
      "text/plain": [
       "<cppyy.gbl.TBranch object at 0x561f74d2fe60>"
      ]
     },
     "execution_count": 4,
     "metadata": {},
     "output_type": "execute_result"
    }
   ],
   "source": [
    "sig = ROOT.TTree(\"sig\", \"Tree with exponential distribution\")\n",
    "x=array.array('f', [0])\n",
    "sig.Branch(\"x\", x, \"x/F\")"
   ]
  },
  {
   "cell_type": "markdown",
   "id": "e838b5f2",
   "metadata": {},
   "source": [
    "# setup a random number generator and define the parameters of the distributions we want to generate. Also the total number of events is floated"
   ]
  },
  {
   "cell_type": "code",
   "execution_count": 5,
   "id": "f69fe2d3",
   "metadata": {},
   "outputs": [],
   "source": [
    "ran = ROOT.TRandom3(12345)\n",
    "numValues = ran.Poisson(40000)\n",
    "tau = 100.\n",
    "m = 125.\n",
    "sigma = 5.\n",
    "nsig = 0"
   ]
  },
  {
   "cell_type": "markdown",
   "id": "731719b2",
   "metadata": {},
   "source": [
    "# throw random numbers"
   ]
  },
  {
   "cell_type": "code",
   "execution_count": 6,
   "id": "beec9394",
   "metadata": {},
   "outputs": [],
   "source": [
    "for i in range(numValues):\n",
    "  isSig = ran.Rndm()<0.05\n",
    "  if isSig:\n",
    "      x[0] = ran.Gaus(m,sigma)\n",
    "      nsig+=1\n",
    "  else:\n",
    "    x[0] = ran.Exp(tau);\n",
    "  sig.Fill()"
   ]
  },
  {
   "cell_type": "code",
   "execution_count": 7,
   "id": "b513ed2f",
   "metadata": {},
   "outputs": [
    {
     "name": "stdout",
     "output_type": "stream",
     "text": [
      "generated 1964 sigal events\n"
     ]
    }
   ],
   "source": [
    "print(f'generated {nsig} sigal events')"
   ]
  },
  {
   "cell_type": "code",
   "execution_count": 9,
   "id": "11888da3",
   "metadata": {},
   "outputs": [
    {
     "data": {
      "image/png": "[encoded data removed]",
      "text/plain": [
       "<IPython.core.display.Image object>"
      ]
     },
     "metadata": {},
     "output_type": "display_data"
    }
   ],
   "source": [
    "canvas = ROOT.TCanvas()\n",
    "sig.Draw(\"x\")\n",
    "ROOT.gPad.Update()\n",
    "ROOT.gPad.Draw()"
   ]
  },
  {
   "cell_type": "code",
   "execution_count": 10,
   "id": "48cdbc02",
   "metadata": {},
   "outputs": [],
   "source": [
    "fileout.Write()\n",
    "fileout.Close()"
   ]
  }
 ],
 "metadata": {
  "kernelspec": {
   "display_name": "Python 3",
   "language": "python",
   "name": "python3"
  },
  "language_info": {
   "codemirror_mode": {
    "name": "ipython",
    "version": 3
   },
   "file_extension": ".py",
   "mimetype": "text/x-python",
   "name": "python",
   "nbconvert_exporter": "python",
   "pygments_lexer": "ipython3",
   "version": "3.8.5"
  }
 },
 "nbformat": 4,
 "nbformat_minor": 5
}
