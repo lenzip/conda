{
 "cells": [
  {
   "cell_type": "code",
   "execution_count": 1,
   "id": "f4b93a34",
   "metadata": {},
   "outputs": [
    {
     "name": "stdout",
     "output_type": "stream",
     "text": [
      "Welcome to JupyROOT 6.24/00\n"
     ]
    }
   ],
   "source": [
    "import ROOT\n",
    "import array"
   ]
  },
  {
   "cell_type": "markdown",
   "id": "fb1b2708",
   "metadata": {},
   "source": [
    "# define the random variable"
   ]
  },
  {
   "cell_type": "code",
   "execution_count": 2,
   "id": "24c8738e",
   "metadata": {},
   "outputs": [
    {
     "name": "stdout",
     "output_type": "stream",
     "text": [
      "\n",
      "\u001b[1mRooFit v3.60 -- Developed by Wouter Verkerke and David Kirkby\u001b[0m \n",
      "                Copyright (C) 2000-2013 NIKHEF, University of California & Stanford University\n",
      "                All rights reserved, please read http://roofit.sourceforge.net/license.txt\n",
      "\n"
     ]
    }
   ],
   "source": [
    "mll   = ROOT.RooRealVar(\"mll\", \"mll\", 60, 120)"
   ]
  },
  {
   "cell_type": "markdown",
   "id": "80e2515a",
   "metadata": {},
   "source": [
    "# define the parameters of a Breit Wigner PDF"
   ]
  },
  {
   "cell_type": "code",
   "execution_count": 3,
   "id": "7f6a5fd8",
   "metadata": {},
   "outputs": [],
   "source": [
    "m0    = ROOT.RooRealVar(\"m0\", \"m0\", 90)\n",
    "Gamma = ROOT.RooRealVar(\"gamma\", \"gamma\", 2.5)\n",
    "bw    = ROOT.RooBreitWigner(\"bw\", \"bw\", mll, m0, Gamma)"
   ]
  },
  {
   "cell_type": "markdown",
   "id": "5287cbff",
   "metadata": {},
   "source": [
    "# generate a 100 events dataset"
   ]
  },
  {
   "cell_type": "code",
   "execution_count": 4,
   "id": "36535077",
   "metadata": {},
   "outputs": [],
   "source": [
    "dataset = bw.generate(mll, 100)"
   ]
  },
  {
   "cell_type": "markdown",
   "id": "3956e5ab",
   "metadata": {},
   "source": [
    "# define a new PDF along with new parameters for the fit"
   ]
  },
  {
   "cell_type": "code",
   "execution_count": 5,
   "id": "3b849c72",
   "metadata": {},
   "outputs": [],
   "source": [
    "m0fit    = ROOT.RooRealVar(\"m0fit\", \"m0fit\", 60, 120)\n",
    "Gammafit = ROOT.RooRealVar(\"gammafir\", \"gammafit\", 0, 10)\n",
    "bwfit    = ROOT.RooBreitWigner(\"bwfit\", \"bwfit\", mll, m0fit, Gammafit)"
   ]
  },
  {
   "cell_type": "markdown",
   "id": "ea148369",
   "metadata": {},
   "source": [
    "# fit  to the data"
   ]
  },
  {
   "cell_type": "code",
   "execution_count": 6,
   "id": "78df1903",
   "metadata": {},
   "outputs": [
    {
     "name": "stdout",
     "output_type": "stream",
     "text": [
      "[#1] INFO:Minization -- RooMinimizer::optimizeConst: activating const optimization\n",
      " **********\n",
      " **    1 **SET PRINT           1\n",
      " **********\n",
      " **********\n",
      " **    2 **SET NOGRAD\n",
      " **********\n",
      " PARAMETER DEFINITIONS:\n",
      "    NO.   NAME         VALUE      STEP SIZE      LIMITS\n",
      "     1 gammafir     5.00000e+00  1.00000e+00    0.00000e+00  1.00000e+01\n",
      "     2 m0fit        9.00000e+01  6.00000e+00    6.00000e+01  1.20000e+02\n",
      " **********\n",
      " **    3 **SET ERR         0.5\n",
      " **********\n",
      " **********\n",
      " **    4 **SET PRINT           1\n",
      " **********\n",
      " **********\n",
      " **    5 **SET STR           1\n",
      " **********\n",
      " NOW USING STRATEGY  1: TRY TO BALANCE SPEED AGAINST RELIABILITY\n",
      " **********\n",
      " **    6 **MIGRAD        1000           1\n",
      " **********\n",
      " FIRST CALL TO USER FUNCTION AT NEW START POINT, WITH IFLAG=4.\n",
      " START MIGRAD MINIMIZATION.  STRATEGY  1.  CONVERGENCE WHEN EDM .LT. 1.00e-03\n",
      " FCN=265.683 FROM MIGRAD    STATUS=INITIATE        6 CALLS           7 TOTAL\n",
      "                     EDM= unknown      STRATEGY= 1      NO ERROR MATRIX       \n",
      "  EXT PARAMETER               CURRENT GUESS       STEP         FIRST   \n",
      "  NO.   NAME      VALUE            ERROR          SIZE      DERIVATIVE \n",
      "   1  gammafir     5.00000e+00   1.00000e+00   2.01358e-01   2.83906e+01\n",
      "   2  m0fit        9.00000e+01   6.00000e+00   2.01358e-01   9.72762e+01\n",
      "                               ERR DEF= 0.5\n",
      " MIGRAD MINIMIZATION HAS CONVERGED.\n",
      " MIGRAD WILL VERIFY CONVERGENCE AND ERROR MATRIX.\n",
      " COVARIANCE MATRIX CALCULATED SUCCESSFULLY\n",
      " FCN=256.328 FROM MIGRAD    STATUS=CONVERGED      52 CALLS          53 TOTAL\n",
      "                     EDM=7.59505e-08    STRATEGY= 1      ERROR MATRIX ACCURATE \n",
      "  EXT PARAMETER                                   STEP         FIRST   \n",
      "  NO.   NAME      VALUE            ERROR          SIZE      DERIVATIVE \n",
      "   1  gammafir     2.72478e+00   3.88603e-01   9.65325e-04  -2.18911e-03\n",
      "   2  m0fit        8.97041e+01   1.92703e-01   7.08247e-05  -2.81993e-02\n",
      "                               ERR DEF= 0.5\n",
      " EXTERNAL ERROR MATRIX.    NDIM=  25    NPAR=  2    ERR DEF=0.5\n",
      "  1.514e-01  7.072e-03 \n",
      "  7.072e-03  3.713e-02 \n",
      " PARAMETER  CORRELATION COEFFICIENTS  \n",
      "       NO.  GLOBAL      1      2\n",
      "        1  0.09432   1.000  0.094\n",
      "        2  0.09432   0.094  1.000\n",
      " **********\n",
      " **    7 **SET ERR         0.5\n",
      " **********\n",
      " **********\n",
      " **    8 **SET PRINT           1\n",
      " **********\n",
      " **********\n",
      " **    9 **HESSE        1000\n",
      " **********\n",
      " COVARIANCE MATRIX CALCULATED SUCCESSFULLY\n",
      " FCN=256.328 FROM HESSE     STATUS=OK             10 CALLS          63 TOTAL\n",
      "                     EDM=7.58013e-08    STRATEGY= 1      ERROR MATRIX ACCURATE \n",
      "  EXT PARAMETER                                INTERNAL      INTERNAL  \n",
      "  NO.   NAME      VALUE            ERROR       STEP SIZE       VALUE   \n",
      "   1  gammafir     2.72478e+00   3.88586e-01   1.93065e-04  -4.72421e-01\n",
      "   2  m0fit        8.97041e+01   1.92694e-01   1.41649e-05  -9.86402e-03\n",
      "                               ERR DEF= 0.5\n",
      " EXTERNAL ERROR MATRIX.    NDIM=  25    NPAR=  2    ERR DEF=0.5\n",
      "  1.514e-01  7.035e-03 \n",
      "  7.035e-03  3.713e-02 \n",
      " PARAMETER  CORRELATION COEFFICIENTS  \n",
      "       NO.  GLOBAL      1      2\n",
      "        1  0.09384   1.000  0.094\n",
      "        2  0.09384   0.094  1.000\n",
      " **********\n",
      " **   10 **MINOS        1000           1\n",
      " **********\n",
      " FCN=256.328 FROM MINOS     STATUS=SUCCESSFUL     34 CALLS          97 TOTAL\n",
      "                     EDM=7.58013e-08    STRATEGY= 1      ERROR MATRIX ACCURATE \n",
      "  EXT PARAMETER                  PARABOLIC         MINOS ERRORS        \n",
      "  NO.   NAME      VALUE            ERROR      NEGATIVE      POSITIVE   \n",
      "   1  gammafir     2.72478e+00   3.88586e-01  -3.63388e-01   4.17737e-01\n",
      "   2  m0fit        8.97041e+01   1.92694e-01                            \n",
      "                               ERR DEF= 0.5\n",
      " **********\n",
      " **   11 **MINOS        1000           2\n",
      " **********\n",
      " FCN=256.328 FROM MINOS     STATUS=SUCCESSFUL     26 CALLS         123 TOTAL\n",
      "                     EDM=7.58013e-08    STRATEGY= 1      ERROR MATRIX ACCURATE \n",
      "  EXT PARAMETER                  PARABOLIC         MINOS ERRORS        \n",
      "  NO.   NAME      VALUE            ERROR      NEGATIVE      POSITIVE   \n",
      "   1  gammafir     2.72478e+00   3.88586e-01  -3.63388e-01   4.17737e-01\n",
      "   2  m0fit        8.97041e+01   1.92694e-01  -1.90704e-01   1.96464e-01\n",
      "                               ERR DEF= 0.5\n",
      "[#1] INFO:Minization -- RooMinimizer::optimizeConst: deactivating const optimization\n"
     ]
    }
   ],
   "source": [
    "bwfit.fitTo(dataset, ROOT.RooFit.Minos(ROOT.kTRUE))\n",
    "m0fitRes = m0fit.getVal()\n",
    "m0fitresDo = m0fit.getVal()+m0fit.getAsymErrorLo()\n",
    "m0fitresUp = m0fit.getVal()+m0fit.getAsymErrorHi()"
   ]
  },
  {
   "cell_type": "markdown",
   "id": "5c1de22d",
   "metadata": {},
   "source": [
    "# plot the result"
   ]
  },
  {
   "cell_type": "code",
   "execution_count": 7,
   "id": "4f71ebc6",
   "metadata": {},
   "outputs": [
    {
     "name": "stderr",
     "output_type": "stream",
     "text": [
      "Info in <TCanvas::MakeDefCanvas>:  created default TCanvas with name c1\n"
     ]
    },
    {
     "data": {
      "image/png": "[encoded data removed]",
      "text/plain": [
       "<IPython.core.display.Image object>"
      ]
     },
     "metadata": {},
     "output_type": "display_data"
    }
   ],
   "source": [
    "frame_mll = mll.frame()\n",
    "dataset.plotOn(frame_mll)\n",
    "bwfit.plotOn(frame_mll)\n",
    "frame_mll.Draw()\n",
    "ROOT.gPad.Draw()"
   ]
  },
  {
   "cell_type": "markdown",
   "id": "d5db4c05",
   "metadata": {},
   "source": [
    "# redo the fit instantiating the likelihood by hand"
   ]
  },
  {
   "cell_type": "code",
   "execution_count": 8,
   "id": "89cae305",
   "metadata": {},
   "outputs": [
    {
     "name": "stdout",
     "output_type": "stream",
     "text": [
      " **********\n",
      " **   13 **MIGRAD        1000           1\n",
      " **********\n",
      " FIRST CALL TO USER FUNCTION AT NEW START POINT, WITH IFLAG=4.\n",
      " START MIGRAD MINIMIZATION.  STRATEGY  1.  CONVERGENCE WHEN EDM .LT. 1.00e-03\n",
      " FCN=256.328 FROM MIGRAD    STATUS=INITIATE        4 CALLS           5 TOTAL\n",
      "                     EDM= unknown      STRATEGY= 1      NO ERROR MATRIX       \n",
      "  EXT PARAMETER               CURRENT GUESS       STEP         FIRST   \n",
      "  NO.   NAME      VALUE            ERROR          SIZE      DERIVATIVE \n",
      "   1  gammafir     2.72478e+00   3.88586e-01   8.74759e-02  -2.25434e-03\n",
      "   2  m0fit        8.97041e+01   1.92694e-01   6.42348e-03  -2.83420e-02\n",
      "                               ERR DEF= 0.5\n",
      " MIGRAD MINIMIZATION HAS CONVERGED.\n",
      " MIGRAD WILL VERIFY CONVERGENCE AND ERROR MATRIX.\n",
      " COVARIANCE MATRIX CALCULATED SUCCESSFULLY\n",
      " FCN=256.328 FROM MIGRAD    STATUS=CONVERGED      24 CALLS          25 TOTAL\n",
      "                     EDM=6.1549e-11    STRATEGY= 1      ERROR MATRIX ACCURATE \n",
      "  EXT PARAMETER                                   STEP         FIRST   \n",
      "  NO.   NAME      VALUE            ERROR          SIZE      DERIVATIVE \n",
      "   1  gammafir     2.72486e+00   3.88618e-01   9.62800e-04  -5.09660e-06\n",
      "   2  m0fit        8.97041e+01   1.92707e-01   7.07712e-05  -1.21277e-03\n",
      "                               ERR DEF= 0.5\n",
      " EXTERNAL ERROR MATRIX.    NDIM=  25    NPAR=  2    ERR DEF=0.5\n",
      "  1.514e-01  7.074e-03 \n",
      "  7.074e-03  3.714e-02 \n",
      " PARAMETER  CORRELATION COEFFICIENTS  \n",
      "       NO.  GLOBAL      1      2\n",
      "        1  0.09434   1.000  0.094\n",
      "        2  0.09434   0.094  1.000\n"
     ]
    }
   ],
   "source": [
    "nll = bwfit.createNLL(dataset)\n",
    "ROOT.RooMinuit(nll).migrad()\n",
    "minNLL=nll.getVal()"
   ]
  },
  {
   "cell_type": "markdown",
   "id": "587701f5",
   "metadata": {},
   "source": [
    "# draw the nll per points around the minimum"
   ]
  },
  {
   "cell_type": "code",
   "execution_count": 9,
   "id": "a4572414",
   "metadata": {},
   "outputs": [
    {
     "data": {
      "image/png": "[encoded data removed]",
      "text/plain": [
       "<IPython.core.display.Image object>"
      ]
     },
     "metadata": {},
     "output_type": "display_data"
    }
   ],
   "source": [
    "h2d = ROOT.TH2F(\"2d\", \"2d\", 100, 89., 90.5, 100, 2., 4.)\n",
    "for i in range(1,h2d.GetXaxis().GetNbins()+1):\n",
    "  for j in range(1,h2d.GetYaxis().GetNbins()+1):\n",
    "    m0here    = h2d.GetXaxis().GetBinCenter(i)\n",
    "    gammaHere = h2d.GetYaxis().GetBinCenter(j)\n",
    "    m0fit.setVal(m0here)\n",
    "    Gammafit.setVal(gammaHere)\n",
    "    h2d.SetBinContent(i, j, 2*(nll.getVal()-minNLL))\n",
    "\n",
    "contours = array.array('d', [1, 2.41,5.99])\n",
    "h2d.Draw(\"COLZ\")\n",
    "h2dclone = h2d.Clone()\n",
    "h2dclone.SetContour(3, contours)\n",
    "h2dclone.SetLineStyle(2)\n",
    "h2dclone.Draw(\"CONT2 LIST same\")\n",
    "ROOT.gPad.SetLogz()\n",
    "\n",
    "line1 = ROOT.TLine(m0fitresDo, 2, m0fitresDo, 4)\n",
    "line2 = ROOT.TLine(m0fitresUp, 2, m0fitresUp, 4)\n",
    "line1.Draw(\"sames\")\n",
    "line2.Draw(\"sames\")\n",
    "ROOT.gPad.Update()\n",
    "\n",
    "ROOT.gPad.Draw()"
   ]
  },
  {
   "cell_type": "markdown",
   "id": "a44b6a36",
   "metadata": {},
   "source": [
    "# create the profile likelihood in parameter mofit"
   ]
  },
  {
   "cell_type": "code",
   "execution_count": 11,
   "id": "4034bcf1",
   "metadata": {},
   "outputs": [
    {
     "name": "stdout",
     "output_type": "stream",
     "text": [
      "0.0\n",
      "\n",
      "[#1] INFO:Minization -- RooProfileLL::evaluate(nll_bwfit_bwData_Profile[m0fit]) Creating instance of MINUIT\n",
      "[#1] INFO:Minization -- RooProfileLL::evaluate(nll_bwfit_bwData_Profile[m0fit]) determining minimum likelihood for current configurations w.r.t all observable\n",
      "[#1] INFO:Minization -- RooProfileLL::evaluate(nll_bwfit_bwData_Profile[m0fit]) minimum found at (m0fit=89.7039)\n",
      ".................................................................................."
     ]
    },
    {
     "data": {
      "image/png": "[encoded data removed]",
      "text/plain": [
       "<IPython.core.display.Image object>"
      ]
     },
     "metadata": {},
     "output_type": "display_data"
    }
   ],
   "source": [
    "profile = nll.createProfile(m0fit)\n",
    "frame1 = m0fit.frame(ROOT.RooFit.Bins(20), ROOT.RooFit.Range(89,90.5), ROOT.RooFit.Title(\"profileLL in mass\"))\n",
    "profile.plotOn(frame1)\n",
    "frame1.GetYaxis().SetRangeUser(0, 2)\n",
    "frame1.Draw()\n",
    "line = ROOT.TLine(89, 0.5, 90.5, 0.5)\n",
    "line.Draw(\"sames\")\n",
    "print(m0fit.getAsymErrorLo())\n",
    "line1 = ROOT.TLine(m0fitresDo, 0, m0fitresDo, 2)\n",
    "line2 = ROOT.TLine(m0fitresUp, 0, m0fitresUp, 2)\n",
    "line1.Draw(\"sames\")\n",
    "line2.Draw(\"sames\")\n",
    "ROOT.gPad.Update()\n",
    "ROOT.gPad.Draw()\n"
   ]
  },
  {
   "cell_type": "code",
   "execution_count": null,
   "id": "9f8c71a7",
   "metadata": {},
   "outputs": [],
   "source": []
  }
 ],
 "metadata": {
  "kernelspec": {
   "display_name": "Python 3",
   "language": "python",
   "name": "python3"
  },
  "language_info": {
   "codemirror_mode": {
    "name": "ipython",
    "version": 3
   },
   "file_extension": ".py",
   "mimetype": "text/x-python",
   "name": "python",
   "nbconvert_exporter": "python",
   "pygments_lexer": "ipython3",
   "version": "3.8.5"
  }
 },
 "nbformat": 4,
 "nbformat_minor": 5
}
