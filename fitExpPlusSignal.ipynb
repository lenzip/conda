{
 "cells": [
  {
   "cell_type": "code",
   "execution_count": 8,
   "id": "7290bda4",
   "metadata": {},
   "outputs": [],
   "source": [
    "import ROOT"
   ]
  },
  {
   "cell_type": "markdown",
   "id": "be3ab203",
   "metadata": {},
   "source": [
    "# access file data.root and read the ttree in"
   ]
  },
  {
   "cell_type": "code",
   "execution_count": 9,
   "id": "5a6a3c98",
   "metadata": {},
   "outputs": [],
   "source": [
    "inputFile =  ROOT.TFile(\"data.root\")\n",
    "tree = inputFile.Get(\"sig\")"
   ]
  },
  {
   "cell_type": "markdown",
   "id": "a5e40e24",
   "metadata": {},
   "source": [
    "# create the sum of an exponential and a gaussian to fit the data"
   ]
  },
  {
   "cell_type": "code",
   "execution_count": 10,
   "id": "2487b038",
   "metadata": {},
   "outputs": [],
   "source": [
    "x = ROOT.RooRealVar(\"x\", \"x\", 0., 1000.);\n",
    "oneovertau = ROOT.RooRealVar(\"oneovertau\", \"oneovertau\", -0.02, -0.1, -0.003)\n",
    "sigma = ROOT.RooRealVar(\"sigma\", \"sigma\", 1., 0.001, 10.)\n",
    "mass = ROOT.RooRealVar(\"mass\", \"mass\",  114., 200.)\n",
    "nbkg = ROOT.RooRealVar(\"nbkg\", \"nbkg\", 10000., 50000.)\n",
    "nsig = ROOT.RooRealVar(\"nsig\", \"nsig\", 1000., 3000.)\n",
    "expo = ROOT.RooExponential(\"expo\",\"expoonential function\", x, oneovertau)\n",
    "gaus = ROOT.RooGaussian(\"gaus\", \"gaussian function\", x, mass, sigma)\n",
    "modelSB = ROOT.RooAddPdf(\"modelSB\",\"modelSB\", ROOT.RooArgList(gaus,expo), ROOT.RooArgList(nsig,nbkg))"
   ]
  },
  {
   "cell_type": "markdown",
   "id": "bf81df80",
   "metadata": {},
   "source": [
    "# convert the ttree in a RooDataset"
   ]
  },
  {
   "cell_type": "code",
   "execution_count": 11,
   "id": "651af61d",
   "metadata": {},
   "outputs": [
    {
     "name": "stdout",
     "output_type": "stream",
     "text": [
      "[#1] INFO:DataHandling -- RooAbsReal::attachToTree(x) TTree Float_t branch x will be converted to double precision.\n",
      "RooDataSet::data[x] = 7958 entries\n"
     ]
    }
   ],
   "source": [
    "data = ROOT.RooDataSet(\"data\",\"dataset with x\", tree, ROOT.RooArgSet(x))\n",
    "data.Print()"
   ]
  },
  {
   "cell_type": "markdown",
   "id": "d1a2e964",
   "metadata": {},
   "source": [
    "# fit the model to the data"
   ]
  },
  {
   "cell_type": "code",
   "execution_count": 12,
   "id": "0a3e6ff7",
   "metadata": {},
   "outputs": [
    {
     "name": "stdout",
     "output_type": "stream",
     "text": [
      "[#1] INFO:Minimization -- p.d.f. provides expected number of events, including extended term in likelihood.\n",
      "[#1] INFO:Minimization -- RooAbsMinimizerFcn::setOptimizeConst: activating const optimization\n",
      "[#1] INFO:Minimization --  The following expressions will be evaluated in cache-and-track mode: (gaus,expo)\n",
      " **********\n",
      " **   15 **SET PRINT           1\n",
      " **********\n",
      " **********\n",
      " **   16 **SET NOGRAD\n",
      " **********\n",
      " PARAMETER DEFINITIONS:\n",
      "    NO.   NAME         VALUE      STEP SIZE      LIMITS\n",
      "     1 mass         1.57000e+02  8.60000e+00    1.14000e+02  2.00000e+02\n",
      "     2 nbkg         3.00000e+04  4.00000e+03    1.00000e+04  5.00000e+04\n",
      "     3 nsig         2.00000e+03  2.00000e+02    1.00000e+03  3.00000e+03\n",
      "     4 oneovertau  -2.00000e-02  8.50000e-03   -1.00000e-01 -3.00000e-03\n",
      "     5 sigma        1.00000e+00  4.99500e-01    1.00000e-03  1.00000e+01\n",
      " **********\n",
      " **   17 **SET ERR         0.5\n",
      " **********\n",
      " **********\n",
      " **   18 **SET PRINT           1\n",
      " **********\n",
      " **********\n",
      " **   19 **SET STR           1\n",
      " **********\n",
      " NOW USING STRATEGY  1: TRY TO BALANCE SPEED AGAINST RELIABILITY\n",
      " **********\n",
      " **   20 **MIGRAD        2500           1\n",
      " **********\n",
      " FIRST CALL TO USER FUNCTION AT NEW START POINT, WITH IFLAG=4.\n",
      " START MIGRAD MINIMIZATION.  STRATEGY  1.  CONVERGENCE WHEN EDM .LT. 1.00e-03\n",
      " FCN=-3003.49 FROM MIGRAD    STATUS=INITIATE       34 CALLS          35 TOTAL\n",
      "                     EDM= unknown      STRATEGY= 1      NO ERROR MATRIX       \n",
      "  EXT PARAMETER               CURRENT GUESS       STEP         FIRST   \n",
      "  NO.   NAME      VALUE            ERROR          SIZE      DERIVATIVE \n",
      "   1  mass         1.54120e+02   8.60000e+00  -6.70306e-02   2.64407e+01\n",
      "   2  nbkg         3.00000e+04   4.00000e+03   0.00000e+00   1.47544e+04\n",
      "   3  nsig         2.00000e+03   2.00000e+02   0.00000e+00   9.55209e+02\n",
      "   4  oneovertau  -2.00000e-02   8.50000e-03   0.00000e+00  -1.47479e+04\n",
      "   5  sigma        1.00000e+00   4.99500e-01   0.00000e+00  -3.76470e+02\n",
      "                               ERR DEF= 0.5\n",
      " MIGRAD MINIMIZATION HAS CONVERGED.\n",
      " MIGRAD WILL VERIFY CONVERGENCE AND ERROR MATRIX.\n",
      " COVARIANCE MATRIX CALCULATED SUCCESSFULLY\n",
      " FCN=-18409.7 FROM MIGRAD    STATUS=CONVERGED     284 CALLS         285 TOTAL\n",
      "                     EDM=1.74474e-07    STRATEGY= 1      ERROR MATRIX ACCURATE \n",
      "  EXT PARAMETER                                   STEP         FIRST   \n",
      "  NO.   NAME      VALUE            ERROR          SIZE      DERIVATIVE \n",
      "   1  mass         1.24478e+02   6.75582e-01   2.24685e-03   3.50200e-03\n",
      "   2  nbkg         1.00000e+04   1.89932e+00   1.29129e-03** at limit **\n",
      "   3  nsig         1.00000e+03   1.22068e+00   4.62947e-03** at limit **\n",
      "   4  oneovertau  -1.00382e-02   1.17508e-04   4.37058e-04  -2.95419e-02\n",
      "   5  sigma        8.88351e+00   8.82982e-01   2.64587e-02   1.10822e-03\n",
      "                               ERR DEF= 0.5\n",
      " EXTERNAL ERROR MATRIX.    NDIM=  25    NPAR=  5    ERR DEF=0.5\n",
      "  4.565e-01  2.347e-09 -3.913e-08 -2.403e-06  1.401e-02 \n",
      "  2.347e-09  4.267e-08 -1.026e-13  5.513e-13  4.144e-08 \n",
      " -3.913e-08 -1.026e-13  2.836e-07 -9.189e-12 -6.907e-07 \n",
      " -2.403e-06  5.513e-13 -9.189e-12  1.381e-08  3.724e-06 \n",
      "  1.401e-02  4.144e-08 -6.907e-07  3.724e-06  8.010e-01 \n",
      " PARAMETER  CORRELATION COEFFICIENTS  \n",
      "       NO.  GLOBAL      1      2      3      4      5\n",
      "        1  0.03878   1.000  0.000 -0.000 -0.030  0.023\n",
      "        2  0.00022   0.000  1.000 -0.000  0.000  0.000\n",
      "        3  0.00145  -0.000 -0.000  1.000 -0.000 -0.001\n",
      "        4  0.04712  -0.030  0.000 -0.000  1.000  0.035\n",
      "        5  0.04294   0.023  0.000 -0.001  0.035  1.000\n",
      " **********\n",
      " **   21 **SET ERR         0.5\n",
      " **********\n",
      " **********\n",
      " **   22 **SET PRINT           1\n",
      " **********\n",
      " **********\n",
      " **   23 **HESSE        2500\n",
      " **********\n",
      " COVARIANCE MATRIX CALCULATED SUCCESSFULLY\n",
      " FCN=-18409.7 FROM HESSE     STATUS=OK             31 CALLS         316 TOTAL\n",
      "                     EDM=1.7314e-07    STRATEGY= 1      ERROR MATRIX ACCURATE \n",
      "  EXT PARAMETER                                INTERNAL      INTERNAL  \n",
      "  NO.   NAME      VALUE            ERROR       STEP SIZE       VALUE   \n",
      "   1  mass         1.24478e+02   6.75761e-01   8.98742e-05  -8.57661e-01\n",
      "   2  nbkg         1.00000e+04   1.89932e+00   2.58258e-04  -1.57080e+00\n",
      "                                 WARNING -   - ABOVE PARAMETER IS AT LIMIT.\n",
      "   3  nsig         1.00000e+03   1.22068e+00   9.25893e-04  -1.57079e+00\n",
      "                                 WARNING -   - ABOVE PARAMETER IS AT LIMIT.\n",
      "   4  oneovertau  -1.00382e-02   1.17504e-04   8.74116e-05   1.02533e+00\n",
      "   5  sigma        8.88351e+00   8.83627e-01   1.05835e-03   2.25222e+00\n",
      "                               ERR DEF= 0.5\n",
      " EXTERNAL ERROR MATRIX.    NDIM=  25    NPAR=  5    ERR DEF=0.5\n",
      "  4.567e-01  4.900e-10 -8.778e-09 -2.382e-06  1.981e-02 \n",
      "  4.900e-10  4.267e-08 -8.235e-15  1.077e-13  8.063e-09 \n",
      " -8.778e-09 -8.235e-15  2.836e-07 -1.844e-12 -1.379e-07 \n",
      " -2.382e-06  1.077e-13 -1.844e-12  1.381e-08  3.619e-06 \n",
      "  1.981e-02  8.063e-09 -1.379e-07  3.619e-06  8.022e-01 \n",
      " PARAMETER  CORRELATION COEFFICIENTS  \n",
      "       NO.  GLOBAL      1      2      3      4      5\n",
      "        1  0.04517   1.000  0.000 -0.000 -0.030  0.033\n",
      "        2  0.00004   0.000  1.000 -0.000  0.000  0.000\n",
      "        3  0.00029  -0.000 -0.000  1.000 -0.000 -0.000\n",
      "        4  0.04639  -0.030  0.000 -0.000  1.000  0.034\n",
      "        5  0.04820   0.033  0.000 -0.000  0.034  1.000\n",
      " **********\n",
      " **   24 **MINOS        2500           1\n",
      " **********\n",
      " MINUIT WARNING IN MIGRAD  \n",
      " ============== VARIABLE2 IS AT ITS LOWER ALLOWED LIMIT.\n",
      " MINUIT WARNING IN MIGRAD  \n",
      " ============== VARIABLE3 IS AT ITS LOWER ALLOWED LIMIT.\n",
      " FCN=-18409.7 FROM MINOS     STATUS=SUCCESSFUL    100 CALLS         416 TOTAL\n",
      "                     EDM=1.7314e-07    STRATEGY= 1      ERROR MATRIX ACCURATE \n",
      "  EXT PARAMETER                  PARABOLIC         MINOS ERRORS        \n",
      "  NO.   NAME      VALUE            ERROR      NEGATIVE      POSITIVE   \n",
      "   1  mass         1.24478e+02   6.75761e-01  -6.82457e-01   6.76748e-01\n",
      "   2  nbkg         1.00000e+04   1.89932e+00                            \n",
      "                                 WARNING -   - ABOVE PARAMETER IS AT LIMIT.\n",
      "   3  nsig         1.00000e+03   1.22068e+00                            \n",
      "                                 WARNING -   - ABOVE PARAMETER IS AT LIMIT.\n",
      "   4  oneovertau  -1.00382e-02   1.17504e-04                            \n",
      "   5  sigma        8.88351e+00   8.83627e-01  -9.58067e-02   at limit   \n",
      "                               ERR DEF= 0.5\n",
      " **********\n",
      " **   25 **MINOS        2500           2\n",
      " **********\n",
      "    THE NEGATIVE MINOS ERROR OF PARAMETER   2, nbkg EXCEEDS ITS LIMIT.\n",
      " MINUIT WARNING IN MIGRAD  \n",
      " ============== VARIABLE2 IS AT ITS LOWER ALLOWED LIMIT.\n",
      " MINUIT WARNING IN MIGRAD  \n",
      " ============== VARIABLE3 IS AT ITS LOWER ALLOWED LIMIT.\n",
      " FCN=-18409.7 FROM MINOS     STATUS=SUCCESSFUL     62 CALLS         478 TOTAL\n",
      "                     EDM=1.7314e-07    STRATEGY= 1      ERROR MATRIX ACCURATE \n",
      "  EXT PARAMETER                  PARABOLIC         MINOS ERRORS        \n",
      "  NO.   NAME      VALUE            ERROR      NEGATIVE      POSITIVE   \n",
      "   1  mass         1.24478e+02   6.75761e-01  -6.82457e-01   6.76748e-01\n",
      "   2  nbkg         1.00000e+04   1.89932e+00   at limit      1.89910e+00\n",
      "                                 WARNING -   - ABOVE PARAMETER IS AT LIMIT.\n",
      "   3  nsig         1.00000e+03   1.22068e+00                            \n",
      "                                 WARNING -   - ABOVE PARAMETER IS AT LIMIT.\n",
      "   4  oneovertau  -1.00382e-02   1.17504e-04                            \n",
      "   5  sigma        8.88351e+00   8.83627e-01  -9.58067e-02   at limit   \n",
      "                               ERR DEF= 0.5\n",
      " **********\n",
      " **   26 **MINOS        2500           3\n",
      " **********\n",
      "    THE NEGATIVE MINOS ERROR OF PARAMETER   3, nsig EXCEEDS ITS LIMIT.\n",
      " MINUIT WARNING IN MIGRAD  \n",
      " ============== VARIABLE2 IS AT ITS LOWER ALLOWED LIMIT.\n",
      " MINUIT WARNING IN MIGRAD  \n",
      " ============== VARIABLE3 IS AT ITS LOWER ALLOWED LIMIT.\n",
      " FCN=-18409.7 FROM MINOS     STATUS=SUCCESSFUL     63 CALLS         541 TOTAL\n",
      "                     EDM=1.7314e-07    STRATEGY= 1      ERROR MATRIX ACCURATE \n",
      "  EXT PARAMETER                  PARABOLIC         MINOS ERRORS        \n",
      "  NO.   NAME      VALUE            ERROR      NEGATIVE      POSITIVE   \n",
      "   1  mass         1.24478e+02   6.75761e-01  -6.82457e-01   6.76748e-01\n",
      "   2  nbkg         1.00000e+04   1.89932e+00   at limit      1.89910e+00\n",
      "                                 WARNING -   - ABOVE PARAMETER IS AT LIMIT.\n",
      "   3  nsig         1.00000e+03   1.22068e+00   at limit      1.22068e+00\n",
      "                                 WARNING -   - ABOVE PARAMETER IS AT LIMIT.\n",
      "   4  oneovertau  -1.00382e-02   1.17504e-04                            \n",
      "   5  sigma        8.88351e+00   8.83627e-01  -9.58067e-02   at limit   \n",
      "                               ERR DEF= 0.5\n",
      " **********\n",
      " **   27 **MINOS        2500           4\n",
      " **********\n",
      " MINUIT WARNING IN MIGRAD  \n",
      " ============== VARIABLE2 IS AT ITS LOWER ALLOWED LIMIT.\n",
      " MINUIT WARNING IN MIGRAD  \n",
      " ============== VARIABLE3 IS AT ITS LOWER ALLOWED LIMIT.\n",
      " FCN=-18409.7 FROM MINOS     STATUS=SUCCESSFUL     49 CALLS         590 TOTAL\n",
      "                     EDM=1.7314e-07    STRATEGY= 1      ERROR MATRIX ACCURATE \n",
      "  EXT PARAMETER                  PARABOLIC         MINOS ERRORS        \n",
      "  NO.   NAME      VALUE            ERROR      NEGATIVE      POSITIVE   \n",
      "   1  mass         1.24478e+02   6.75761e-01  -6.82457e-01   6.76748e-01\n",
      "   2  nbkg         1.00000e+04   1.89932e+00   at limit      1.89910e+00\n",
      "                                 WARNING -   - ABOVE PARAMETER IS AT LIMIT.\n",
      "   3  nsig         1.00000e+03   1.22068e+00   at limit      1.22068e+00\n",
      "                                 WARNING -   - ABOVE PARAMETER IS AT LIMIT.\n",
      "   4  oneovertau  -1.00382e-02   1.17504e-04  -1.17952e-04   1.17055e-04\n",
      "   5  sigma        8.88351e+00   8.83627e-01  -9.58067e-02   at limit   \n",
      "                               ERR DEF= 0.5\n",
      " **********\n",
      " **   28 **MINOS        2500           5\n",
      " **********\n",
      " MINUIT WARNING IN MIGRAD  \n",
      " ============== VARIABLE2 IS AT ITS LOWER ALLOWED LIMIT.\n",
      " MINUIT WARNING IN MIGRAD  \n",
      " ============== VARIABLE3 IS AT ITS LOWER ALLOWED LIMIT.\n",
      " FCN=-18409.7 FROM MINOS     STATUS=SUCCESSFUL    134 CALLS         724 TOTAL\n",
      "                     EDM=1.7314e-07    STRATEGY= 1      ERROR MATRIX ACCURATE \n",
      "  EXT PARAMETER                  PARABOLIC         MINOS ERRORS        \n",
      "  NO.   NAME      VALUE            ERROR      NEGATIVE      POSITIVE   \n",
      "   1  mass         1.24478e+02   6.75761e-01  -6.82457e-01   6.76748e-01\n",
      "   2  nbkg         1.00000e+04   1.89932e+00   at limit      1.89910e+00\n",
      "                                 WARNING -   - ABOVE PARAMETER IS AT LIMIT.\n",
      "   3  nsig         1.00000e+03   1.22068e+00   at limit      1.22068e+00\n",
      "                                 WARNING -   - ABOVE PARAMETER IS AT LIMIT.\n",
      "   4  oneovertau  -1.00382e-02   1.17504e-04  -1.17952e-04   1.17055e-04\n",
      "   5  sigma        8.88351e+00   8.83627e-01  -8.22923e-01   9.88314e-01\n",
      "                               ERR DEF= 0.5\n",
      "[#1] INFO:Minimization -- RooAbsMinimizerFcn::setOptimizeConst: deactivating const optimization\n"
     ]
    }
   ],
   "source": [
    "resSB = modelSB.fitTo(data, ROOT.RooFit.Save(True), ROOT.RooFit.Minos(True))"
   ]
  },
  {
   "cell_type": "markdown",
   "id": "b36ee4f2",
   "metadata": {},
   "source": [
    "# plot the results"
   ]
  },
  {
   "cell_type": "code",
   "execution_count": 10,
   "id": "f0ec2ea0",
   "metadata": {},
   "outputs": [
    {
     "name": "stdout",
     "output_type": "stream",
     "text": [
      "[#1] INFO:Plotting -- RooAbsPdf::plotOn(modelSB) directly selected PDF components: (expo)\n",
      "[#1] INFO:Plotting -- RooAbsPdf::plotOn(modelSB) indirectly selected PDF components: ()\n"
     ]
    },
    {
     "name": "stderr",
     "output_type": "stream",
     "text": [
      "Info in <TCanvas::MakeDefCanvas>:  created default TCanvas with name c1\n"
     ]
    },
    {
     "data": {
      "image/png": "[encoded data removed]",
      "text/plain": [
       "<IPython.core.display.Image object>"
      ]
     },
     "metadata": {},
     "output_type": "display_data"
    }
   ],
   "source": [
    "xframe = x.frame(ROOT.RooFit.Title(\"expoRooFit.C\"),ROOT.RooFit.Bins(100),ROOT.RooFit.Range(0.,500.))\n",
    "data.plotOn(xframe)\n",
    "modelSB.plotOn(xframe)\n",
    "modelSB.plotOn(xframe, ROOT.RooFit.Components('expo'), ROOT.RooFit.LineColor(ROOT.kRed))\n",
    "xframe.Draw()\n",
    "ROOT.gPad.Draw()"
   ]
  },
  {
   "cell_type": "markdown",
   "id": "62d20384",
   "metadata": {},
   "source": [
    "# redo it by hand and then construct the profile in mass of the resonance"
   ]
  },
  {
   "cell_type": "markdown",
   "id": "fa04a291",
   "metadata": {},
   "source": [
    "## 1. create the NLL"
   ]
  },
  {
   "cell_type": "code",
   "execution_count": 11,
   "id": "5c6e93e7",
   "metadata": {},
   "outputs": [
    {
     "name": "stdout",
     "output_type": "stream",
     "text": [
      "[#1] INFO:Minization -- p.d.f. provides expected number of events, including extended term in likelihood.\n"
     ]
    }
   ],
   "source": [
    "nll = modelSB.createNLL(data)"
   ]
  },
  {
   "cell_type": "markdown",
   "id": "17148282",
   "metadata": {},
   "source": [
    "## 2. instantiate Minuit with that likelihood and minimize"
   ]
  },
  {
   "cell_type": "code",
   "execution_count": 12,
   "id": "1657439e",
   "metadata": {},
   "outputs": [
    {
     "data": {
      "text/plain": [
       "0"
      ]
     },
     "execution_count": 12,
     "metadata": {},
     "output_type": "execute_result"
    },
    {
     "name": "stdout",
     "output_type": "stream",
     "text": [
      " **********\n",
      " **   13 **MIGRAD        2500           1\n",
      " **********\n",
      " FIRST CALL TO USER FUNCTION AT NEW START POINT, WITH IFLAG=4.\n",
      " START MIGRAD MINIMIZATION.  STRATEGY  1.  CONVERGENCE WHEN EDM .LT. 1.00e-03\n",
      " FCN=-159481 FROM MIGRAD    STATUS=INITIATE       10 CALLS          11 TOTAL\n",
      "                     EDM= unknown      STRATEGY= 1      NO ERROR MATRIX       \n",
      "  EXT PARAMETER               CURRENT GUESS       STEP         FIRST   \n",
      "  NO.   NAME      VALUE            ERROR          SIZE      DERIVATIVE \n",
      "   1  mass         1.25026e+02   2.14387e-01   7.45680e-03   2.69777e-02\n",
      "   2  nbkg         3.80266e+04   2.03628e+02   1.11162e-02   1.10405e-02\n",
      "   3  nsig         1.90747e+03   7.30546e+01   7.34370e-02  -1.44471e-03\n",
      "   4  oneovertau  -9.98563e-03   5.14719e-05   2.05265e-03  -4.39567e-01\n",
      "   5  sigma        5.01227e+00   2.16018e-01   4.32215e-02  -1.36570e-02\n",
      "                               ERR DEF= 0.5\n",
      " MIGRAD FAILS TO FIND IMPROVEMENT\n",
      " COVARIANCE MATRIX CALCULATED SUCCESSFULLY\n",
      " FCN=-159481 FROM HESSE     STATUS=OK             39 CALLS          61 TOTAL\n",
      "                     EDM=2.4417e-06    STRATEGY= 1      ERROR MATRIX ACCURATE \n",
      "  EXT PARAMETER                                   STEP         FIRST   \n",
      "  NO.   NAME      VALUE            ERROR          SIZE      DERIVATIVE \n",
      "   1  mass         1.25026e+02   2.14301e-01   2.05633e-03  -1.93981e-02\n",
      "   2  nbkg         3.80266e+04   2.03487e+02   3.06548e-03   4.14431e-02\n",
      "   3  nsig         1.90747e+03   7.28328e+01   2.02514e-02   2.78714e-03\n",
      "   4  oneovertau  -9.98563e-03   5.14694e-05   5.66050e-04  -4.39831e-01\n",
      "   5  sigma        5.01227e+00   2.15265e-01   1.19190e-02   4.39898e-02\n",
      "                               ERR DEF= 0.5\n",
      " MIGRAD MINIMIZATION HAS CONVERGED.\n",
      " FCN=-159481 FROM MIGRAD    STATUS=CONVERGED      71 CALLS          72 TOTAL\n",
      "                     EDM=8.09651e-08    STRATEGY= 1  ERROR MATRIX UNCERTAINTY   2.4 per cent\n",
      "  EXT PARAMETER                                   STEP         FIRST   \n",
      "  NO.   NAME      VALUE            ERROR          SIZE      DERIVATIVE \n",
      "   1  mass         1.25026e+02   2.13875e-01   1.89677e-06   5.46018e-03\n",
      "   2  nbkg         3.80266e+04   2.03538e+02  -8.99180e-07  -5.16012e-03\n",
      "   3  nsig         1.90740e+03   7.12730e+01  -7.56257e-05  -5.17593e-04\n",
      "   4  oneovertau  -9.98558e-03   5.19790e-05   2.01516e-06  -2.37216e-04\n",
      "   5  sigma        5.01185e+00   1.97534e-01  -8.43884e-05  -8.94238e-03\n",
      "                               ERR DEF= 0.5\n",
      " EXTERNAL ERROR MATRIX.    NDIM=  25    NPAR=  5    ERR DEF=0.5\n",
      "  4.574e-02  8.176e-01 -6.360e-01 -1.539e-07 -1.667e-03 \n",
      "  8.176e-01  4.143e+04 -3.352e+03  1.738e-04 -6.994e+00 \n",
      " -6.360e-01 -3.352e+03  5.089e+03 -1.909e-04  5.954e+00 \n",
      " -1.539e-07  1.738e-04 -1.909e-04  2.702e-09 -2.937e-07 \n",
      " -1.667e-03 -6.994e+00  5.954e+00 -2.937e-07  3.904e-02 \n",
      " PARAMETER  CORRELATION COEFFICIENTS  \n",
      "       NO.  GLOBAL      1      2      3      4      5\n",
      "        1  0.05134   1.000  0.019 -0.042 -0.014 -0.039\n",
      "        2  0.24587   0.019  1.000 -0.231  0.016 -0.174\n",
      "        3  0.45384  -0.042 -0.231  1.000 -0.051  0.422\n",
      "        4  0.05467  -0.014  0.016 -0.051  1.000 -0.029\n",
      "        5  0.43026  -0.039 -0.174  0.422 -0.029  1.000\n"
     ]
    }
   ],
   "source": [
    "ROOT.RooMinuit(nll).migrad()"
   ]
  },
  {
   "cell_type": "markdown",
   "id": "e226dcb6",
   "metadata": {},
   "source": [
    "## 3. Do the profile in the parameter of interest (mass)"
   ]
  },
  {
   "cell_type": "code",
   "execution_count": 13,
   "id": "767c23ac",
   "metadata": {},
   "outputs": [],
   "source": [
    "profile = nll.createProfile(mass)"
   ]
  },
  {
   "cell_type": "markdown",
   "id": "12b040c8",
   "metadata": {},
   "source": [
    "## 4. plot"
   ]
  },
  {
   "cell_type": "code",
   "execution_count": 16,
   "id": "ad5431bc",
   "metadata": {},
   "outputs": [
    {
     "name": "stdout",
     "output_type": "stream",
     "text": [
      "\n",
      "[#1] INFO:Minization -- RooProfileLL::evaluate(nll_modelSB_data_Profile[mass]) Creating instance of MINUIT\n",
      "[#1] INFO:Minization -- RooProfileLL::evaluate(nll_modelSB_data_Profile[mass]) determining minimum likelihood for current configurations w.r.t all observable\n",
      "[#1] INFO:Minization -- RooProfileLL::evaluate(nll_modelSB_data_Profile[mass]) minimum found at (mass=125.026)\n",
      ".................................................................................."
     ]
    },
    {
     "data": {
      "image/png": "[encoded data removed]",
      "text/plain": [
       "<IPython.core.display.Image object>"
      ]
     },
     "metadata": {},
     "output_type": "display_data"
    }
   ],
   "source": [
    "frame1 = mass.frame(ROOT.RooFit.Bins(20), ROOT.RooFit.Range(124,126), ROOT.RooFit.Title(\"profileLL in mass\"))\n",
    "profile.plotOn(frame1)\n",
    "frame1.GetYaxis().SetRangeUser(0, 2)\n",
    "frame1.Draw()\n",
    "line = ROOT.TLine(124, 0.5, 126, 0.5)\n",
    "line.Draw(\"sames\")\n",
    "ROOT.gPad.Draw()"
   ]
  }
 ],
 "metadata": {
  "kernelspec": {
   "display_name": "Python 3 (ipykernel)",
   "language": "python",
   "name": "python3"
  },
  "language_info": {
   "codemirror_mode": {
    "name": "ipython",
    "version": 3
   },
   "file_extension": ".py",
   "mimetype": "text/x-python",
   "name": "python",
   "nbconvert_exporter": "python",
   "pygments_lexer": "ipython3",
   "version": "3.10.4"
  }
 },
 "nbformat": 4,
 "nbformat_minor": 5
}
