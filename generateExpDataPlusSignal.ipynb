{
 "cells": [
  {
   "cell_type": "code",
   "execution_count": 1,
   "id": "0e3aaede",
   "metadata": {},
   "outputs": [
    {
     "name": "stdout",
     "output_type": "stream",
     "text": [
      "Welcome to JupyROOT 6.26/02\n"
     ]
    }
   ],
   "source": [
    "import ROOT"
   ]
  },
  {
   "cell_type": "code",
   "execution_count": 2,
   "id": "b838e3df",
   "metadata": {},
   "outputs": [
    {
     "data": {
      "text/plain": [
       "<cppyy.gbl.TBranch object at 0x55781fbec6a0>"
      ]
     },
     "execution_count": 2,
     "metadata": {},
     "output_type": "execute_result"
    }
   ],
   "source": [
    "import array\n",
    "\n",
    "fileout = ROOT.TFile(\"data.root\", \"recreate\")\n",
    "sig = ROOT.TTree(\"sig\", \"Tree with exponential distribution\")\n",
    "x=array.array('f', [0])\n",
    "sig.Branch(\"x\", x, \"x/F\")"
   ]
  },
  {
   "cell_type": "code",
   "execution_count": 3,
   "id": "7ee9c319",
   "metadata": {},
   "outputs": [],
   "source": [
    "ran = ROOT.TRandom3(12345)\n",
    "numValues = ran.Poisson(4000)\n",
    "tau = 100.\n",
    "m = 125.\n",
    "sigma = 5.\n",
    "nsig = 0"
   ]
  },
  {
   "cell_type": "code",
   "execution_count": 4,
   "id": "17d7c58e",
   "metadata": {},
   "outputs": [
    {
     "name": "stdout",
     "output_type": "stream",
     "text": [
      "generated 26 signal events\n"
     ]
    }
   ],
   "source": [
    "for i in range(numValues):\n",
    "  isSig = ran.Rndm()<0.008\n",
    "  if isSig:\n",
    "      x[0] = ran.Gaus(m,sigma)\n",
    "      nsig+=1\n",
    "  else:\n",
    "    x[0] = ran.Exp(tau);\n",
    "  sig.Fill()\n",
    "  \n",
    "print(f'generated {nsig} signal events')"
   ]
  },
  {
   "cell_type": "code",
   "execution_count": 5,
   "id": "8d73ce10",
   "metadata": {},
   "outputs": [
    {
     "name": "stderr",
     "output_type": "stream",
     "text": [
      "Info in <TCanvas::MakeDefCanvas>:  created default TCanvas with name c1\n"
     ]
    },
    {
     "data": {
      "image/png": "[encoded data removed]",
      "text/plain": [
       "<IPython.core.display.Image object>"
      ]
     },
     "metadata": {},
     "output_type": "display_data"
    }
   ],
   "source": [
    "sig.Draw(\"x\")\n",
    "ROOT.gPad.Draw()"
   ]
  },
  {
   "cell_type": "code",
   "execution_count": 6,
   "id": "d95b7349",
   "metadata": {},
   "outputs": [],
   "source": [
    "fileout.Write()\n",
    "fileout.Close()"
   ]
  }
 ],
 "metadata": {
  "kernelspec": {
   "display_name": "Python 3 (ipykernel)",
   "language": "python",
   "name": "python3"
  },
  "language_info": {
   "codemirror_mode": {
    "name": "ipython",
    "version": 3
   },
   "file_extension": ".py",
   "mimetype": "text/x-python",
   "name": "python",
   "nbconvert_exporter": "python",
   "pygments_lexer": "ipython3",
   "version": "3.10.4"
  }
 },
 "nbformat": 4,
 "nbformat_minor": 5
}
